{
  "cells": [
    {
      "cell_type": "markdown",
      "id": "7b030395-ff9d-488b-893a-3f2925d07a29",
      "metadata": {},
      "source": [
        "# BEE 4750 Lab 1: Julia and GitHub Basics\n",
        "\n",
        "**Name**:\n",
        "\n",
        "**ID**:\n",
        "\n",
        "> **Due Date**\n",
        ">\n",
        "> Wednesday, 8/28/24, 9:00pm\n",
        "\n",
        "## Setup\n",
        "\n",
        "The following code should go at the top of most Julia scripts; it will\n",
        "load the local package environment and install any needed packages. You\n",
        "will see this often and shouldn’t need to touch it."
      ]
    },
    {
      "cell_type": "code",
      "execution_count": null,
      "id": "2",
      "metadata": {},
      "outputs": [
        {
          "name": "stderr",
          "output_type": "stream",
          "text": [
            "\u001b[32m\u001b[1m  Activating\u001b[22m\u001b[39m project at `c:\\Users\\12188\\OneDrive - Cornell University\\BEE 4750\\labs\\lab-1-ashton-pihl`\n"
          ]
        }
      ],
      "source": [
        "import Pkg\n",
        "Pkg.activate(\".\")\n",
        "Pkg.instantiate()"
      ]
    },
    {
      "cell_type": "markdown",
      "id": "b0c0f53b-93bc-4baa-8b0e-bdb58e8ff961",
      "metadata": {},
      "source": [
        "This next cell loads packages which are required for the rest of the\n",
        "code evaluation. In this case, we only need to load the `Plots.jl`\n",
        "plotting package, but you will see others over the course of the\n",
        "semester (and can add more if desired; just make sure that you’ve [added\n",
        "the new packages to the\n",
        "environment](https://viveks.me/environmental-systems-analysis/tutorials/julia-basics.html#package-management)).\n",
        "Standard Julia practice is to load all of the needed packages at the top\n",
        "of the file.\n",
        "\n",
        "> **Warning**\n",
        ">\n",
        "> Loading packages can take a while, especially the first time! Julia\n",
        "> tries to precompile all of the packages you’re using so repeat use is\n",
        "> faster, but this can be quite slow at first."
      ]
    },
    {
      "cell_type": "code",
      "execution_count": null,
      "id": "4",
      "metadata": {},
      "outputs": [],
      "source": [
        "using Plots"
      ]
    },
    {
      "cell_type": "markdown",
      "id": "6d2bc421-d992-4864-a390-fd6d7820f6c0",
      "metadata": {},
      "source": [
        "## Introduction\n",
        "\n",
        "### Julia\n",
        "\n",
        "Julia is an up-and-coming language, originally developed for scientific\n",
        "programming. While learning a new programming language always has its\n",
        "hiccups, the good news is that if you’ve programmed in a high-level\n",
        "language such as Python or MATLAB, most Julia concepts should look\n",
        "familiar.\n",
        "\n",
        "If you have not successfully set up Julia, follow the instructions in\n",
        "[Tools\n",
        "Setup](https://viveks.me/environmental-systems-analysis/setup.html)\n",
        "and/or ask for help.\n",
        "\n",
        "You can use other editors for this course, but our recommendation is\n",
        "[Visual Studio Code](https://code.visualstudio.com/) with the [Julia\n",
        "extension](https://marketplace.visualstudio.com/items?itemName=julialang.language-julia),\n",
        "which will make life a *lot* simpler! You should have set this up by\n",
        "following the [Tools\n",
        "Setup](https://viveks.me/environmental-systems-analysis/setup.html)\n",
        "instructions, but if not, do so now and/or ask for help.\n",
        "\n",
        "### Jupyter Notebooks\n",
        "\n",
        "Jupyter notebooks integrate text and equations in Markdown with Julia\n",
        "(or Python, or R) code. To do this, Jupyter notebooks consist of two\n",
        "types of “cells”: code cells and Markdown (text) cells.\n",
        "\n",
        "Click once on this section of text. A box will appear around this text\n",
        "(and some areas above/below it) - all of that is within this cell.\n",
        "\n",
        "Markdown is a text markup framework for formatting language that makes\n",
        "things look pretty when viewed across different platforms: web browsers,\n",
        "notebooks, and so forth. Text written in Markdown can also include\n",
        "hyperlinks, LaTeX equations, section headers, and images, among other\n",
        "features (most of [the course\n",
        "website](https://viveks.me/climate-risk-analysis) and the lecture notes\n",
        "were all written in Markdown!). [Here is a basic Markdown cheat\n",
        "sheet](https://www.markdownguide.org/cheat-sheet/).\n",
        "\n",
        "What you are looking at right now is the formatted text after the\n",
        "Markdown is processed. To see the raw Markdown, do one of:\n",
        "\n",
        "-   press `Enter` while that cell is selected, or\n",
        "-   double-click on that cell.\n",
        "\n",
        "------------------------------------------------------------------------\n",
        "\n",
        "A couple of the features you will see in this Markdown cell:\n",
        "\n",
        "-   The `---` command creates a horizontal line. This is also nice for\n",
        "    separating sections.\n",
        "-   Backticks (`` `...` ``) can be used to format and highlight code,\n",
        "    keystrokes, etc.\n",
        "-   The `#` sign is used to create a new section header; two `#` signs\n",
        "    (`##`) is used to create a new subsection header; `###` creates a\n",
        "    subsubsection, and so on.\n",
        "-   You can create a bulleted list by using the asterisk `*` or a dash\n",
        "    `-` and a space.\n",
        "-   You can create regular text by just typing as usual.\n",
        "-   You can create **bold-faced text** by wrapping it with two asterisks\n",
        "    on both sides.\n",
        "-   You can create *italicized text* by wrapping it with a single\n",
        "    asterisk on both sides.\n",
        "-   To create a new paragraph, you must include a blank line between the\n",
        "    old and new paragraphs.\n",
        "\n",
        "At this point you might be wondering how to turn this cell back into the\n",
        "fully formatted Markdown text instead of the raw Markdown you’re\n",
        "probably still looking at. You have a couple of options, depending on\n",
        "your platform, but the most consistent is to type `Shift + Enter` to\n",
        "**execute** the cell (this is also how to run code, but more on that\n",
        "later).\n",
        "\n",
        "Additionally, you will frequently need to create new cells in your\n",
        "Jupyter notebooks. How you do this will depend on how you interact with\n",
        "the notebook, but try to figure this out now.\n",
        "\n",
        "One tip is to think carefully about what bits of code should be in the\n",
        "same cell, as you typically only see output from the last command in a\n",
        "cell. For example, compare the following:"
      ]
    },
    {
      "cell_type": "code",
      "execution_count": null,
      "id": "6",
      "metadata": {},
      "outputs": [
        {
          "data": {
            "text/plain": [
              "-0.9589242746631385"
            ]
          },
          "metadata": {},
          "output_type": "display_data"
        }
      ],
      "source": [
        "x = 5\n",
        "sin(x)"
      ]
    },
    {
      "cell_type": "markdown",
      "id": "0b56a2f1-81e8-4426-b62a-95cfc3933b92",
      "metadata": {},
      "source": [
        "with"
      ]
    },
    {
      "cell_type": "code",
      "execution_count": null,
      "id": "8",
      "metadata": {},
      "outputs": [
        {
          "data": {
            "text/plain": [
              "5"
            ]
          },
          "metadata": {},
          "output_type": "display_data"
        }
      ],
      "source": [
        "x = 5"
      ]
    },
    {
      "cell_type": "code",
      "execution_count": null,
      "id": "10",
      "metadata": {},
      "outputs": [
        {
          "data": {
            "text/plain": [
              "-0.9589242746631385"
            ]
          },
          "metadata": {},
          "output_type": "display_data"
        }
      ],
      "source": [
        "sin(x)"
      ]
    },
    {
      "cell_type": "markdown",
      "id": "474d541d-93e6-47e1-874f-80abd6c9d7cc",
      "metadata": {},
      "source": [
        "In Julia, you can also suppress the output of a command with a\n",
        "semi-colon:"
      ]
    },
    {
      "cell_type": "code",
      "execution_count": null,
      "id": "12",
      "metadata": {},
      "outputs": [],
      "source": [
        "sin(x);"
      ]
    },
    {
      "cell_type": "markdown",
      "id": "e5950d08-d04e-4fc7-bed8-33e0ee9a1909",
      "metadata": {},
      "source": [
        "which can help if you want to split some code out for clarity or to\n",
        "insert some text prior to it, but don’t want to clutter the notebook\n",
        "with its output.\n",
        "\n",
        "For code cells, to execute the commands within the cell, we also press\n",
        "`Shift+Enter`.\n",
        "\n",
        "Finally, **make sure that you evaluate all of the code cells in order\n",
        "before submitting**. One bad outcome with notebooks occurs when cells\n",
        "are evaluated out of order, so fixed bugs and edits in previous cells do\n",
        "not get a chance to propagate down. You can do this with the `Run All`\n",
        "command in whichever interface you’re using to edit your notebook.\n",
        "\n",
        "### Julia Basics\n",
        "\n",
        "There are many tutorials and references for Julia, including a [basics\n",
        "overview on the class website](../tutorials/julia-basics.html). Please\n",
        "feel free to reference these as you work through any part of the course.\n",
        "\n",
        "### Formatting Math\n",
        "\n",
        "It will often be helpful to include nicely-formatted mathematics in a\n",
        "notebook. Markdown accomodates this using LaTeX syntax. A LaTeX\n",
        "cheatsheet is available on the class website, and many other guides\n",
        "exist online.\n",
        "\n",
        "Below is an example of a formatted equation: $$x = 5.$$\n",
        "\n",
        "### Looking For Help\n",
        "\n",
        "There is no shame in using Google, or other resources, for help when\n",
        "programming. There are many, many times when you can’t quite get the\n",
        "syntax to work, can’t quite figure out the right package or command to\n",
        "use, or are feeling too lazy or overwhelmed (I’m not judging either of\n",
        "those!) to dig through the documentation. Some good resources include:\n",
        "\n",
        "-   [Stack Overflow](https://stackoverflow.com/) is a treasure trove of\n",
        "    answers;\n",
        "-   The [official Julia forum](https://discourse.julialang.org/) and the\n",
        "    [Julia Subreddit](https://www.reddit.com/r/Julia/) are also very\n",
        "    useful.\n",
        "\n",
        "You are also highly encouraged to post on [Ed\n",
        "Discussion](https://us.edstem.org), though getting a response might be\n",
        "less immediate. Just be mindful that to get good answers, [you have to\n",
        "help people help you](https://stackoverflow.com/help/how-to-ask), and\n",
        "**make sure to give credit to any resources that were helpful**!\n",
        "\n",
        "## Exercises (3 points)\n",
        "\n",
        "Use your understanding of Julia syntax and the GitHub workflow to\n",
        "complete the following (hopefully short) exercises. Convert your\n",
        "completed lab assignment to a PDF and submit it to the Gradescope\n",
        "Assignment “Lab 1”.\n",
        "\n",
        "**Remember to**:\n",
        "\n",
        "-   Include a (succint but clear) writeup of the core idea underlying\n",
        "    your code, through some combination of equations, text, and\n",
        "    algorithms. As you are not required to submit your code, we will not\n",
        "    be looking at it in detail, and instead will rely on those writeups\n",
        "    to assess whether your approach is correct.\n",
        "-   If using the notebook, evaluate all of your code cells, in order\n",
        "    (using a `Run All` command). This will make sure all output is\n",
        "    visible and that the code cells were evaluated in the correct order.\n",
        "-   Tag each of the problems when you submit to Gradescope; a 10%\n",
        "    penalty will be deducted if this is not done.\n",
        "\n",
        "### Computing a Dot Product\n",
        "\n",
        "Given two numeric arrays `x` and `y`, write a function to compute their\n",
        "dot product if they have equal length, and return an error if not (this\n",
        "is useful for debugging!). Use the following code as a starting point."
      ]
    },
    {
      "cell_type": "code",
      "execution_count": null,
      "id": "14",
      "metadata": {},
      "outputs": [
        {
          "data": {
            "text/plain": [
              "dot_product (generic function with 1 method)"
            ]
          },
          "metadata": {},
          "output_type": "display_data"
        }
      ],
      "source": [
        "function dot_product(x, y)\n",
        "    if length(x) == length(y)\n",
        "        xy = x.*y;\n",
        "        dp = sum(xy)\n",
        "    else\n",
        "        throw(DimensionMismatch(\"length of x not equal to length of y\"))\n",
        "    end\n",
        "end"
      ]
    },
    {
      "cell_type": "markdown",
      "id": "e0ce47a6-a5e8-4cd8-a776-5b04adfa6330",
      "metadata": {},
      "source": [
        "Here are some tests to make sure your code works as intended. Tests like\n",
        "these are useful to make sure everything works as intended. One reason\n",
        "to split your code up into functions is that it makes it straightforward\n",
        "to write tests to make sure each piece of your code works, which makes\n",
        "it easier to identify where errors are occuring."
      ]
    },
    {
      "cell_type": "code",
      "execution_count": null,
      "id": "16",
      "metadata": {},
      "outputs": [
        {
          "data": {
            "text/plain": [
              "32"
            ]
          },
          "metadata": {},
          "output_type": "display_data"
        }
      ],
      "source": [
        "dot_product([1 2 3], [4 5 6])"
      ]
    },
    {
      "cell_type": "markdown",
      "id": "37f85171-25e8-4513-b57c-af25ff4378e7",
      "metadata": {},
      "source": [
        "If you know the value you should get, you can write a more formal test\n",
        "using the `@assert` macro, which is a good way to “automate” checking\n",
        "(since you get an obvious error if the code doesn’t work as desired):"
      ]
    },
    {
      "cell_type": "code",
      "execution_count": null,
      "id": "18",
      "metadata": {},
      "outputs": [],
      "source": [
        "@assert dot_product([1 2 3], [4 5 6]) == 32"
      ]
    },
    {
      "cell_type": "markdown",
      "id": "65ccdcd8-449e-4f0c-8f4e-7953ea267f8d",
      "metadata": {},
      "source": [
        "Let’s also make sure we get an error when the dimensions of the two\n",
        "vectors don’t match:"
      ]
    },
    {
      "cell_type": "code",
      "execution_count": null,
      "id": "20",
      "metadata": {},
      "outputs": [
        {
          "ename": "DimensionMismatch",
          "evalue": "DimensionMismatch: length of x not equal to length of y",
          "output_type": "error",
          "traceback": [
            "DimensionMismatch: length of x not equal to length of y\n",
            "\n",
            "Stacktrace:\n",
            " [1] dot_product(x::Matrix{Int64}, y::Matrix{Int64})\n",
            "   @ Main c:\\Users\\12188\\OneDrive - Cornell University\\BEE 4750\\labs\\lab-1-ashton-pihl\\jl_notebook_cell_df34fa98e69747e1a8f8a730347b8e2f_X15sZmlsZQ==.jl:6\n",
            " [2] top-level scope\n",
            "   @ c:\\Users\\12188\\OneDrive - Cornell University\\BEE 4750\\labs\\lab-1-ashton-pihl\\jl_notebook_cell_df34fa98e69747e1a8f8a730347b8e2f_X24sZmlsZQ==.jl:1"
          ]
        }
      ],
      "source": [
        "dot_product([1 2 3], [4 5])"
      ]
    },
    {
      "cell_type": "markdown",
      "id": "8c069a05-159a-43b4-aa3f-d1fec9a2f727",
      "metadata": {},
      "source": [
        "### Making a Plot\n",
        "\n",
        "Write a function to compute the square of an integer `x`. Evaluate this\n",
        "function for integers between $x=-5$ and $x=5$ and make a plot of the\n",
        "squared values (you can find a quick guide to making various types of\n",
        "plots\n",
        "[here](https://viveks.me/environmental-systems-analysis/tutorials/julia-plots.html)).\n",
        "Make sure to label your axes."
      ]
    },
    {
      "cell_type": "code",
      "execution_count": null,
      "id": "22",
      "metadata": {},
      "outputs": [
        {
          "data": {
            "image/png": "[encoded data removed]",
            "image/svg+xml": [
              "<?xml version=\"1.0\" encoding=\"utf-8\"?>\n",
              "<svg xmlns=\"http://www.w3.org/2000/svg\" xmlns:xlink=\"http://www.w3.org/1999/xlink\" width=\"600\" height=\"400\" viewBox=\"0 0 2400 1600\">\n",
              "<defs>\n",
              "  <clipPath id=\"clip790\">\n",
              "    <rect x=\"0\" y=\"0\" width=\"2400\" height=\"1600\"/>\n",
              "  </clipPath>\n",
              "</defs>\n",
              "<path clip-path=\"url(#clip790)\" d=\"M0 1600 L2400 1600 L2400 0 L0 0  Z\" fill=\"#ffffff\" fill-rule=\"evenodd\" fill-opacity=\"1\"/>\n",
              "<defs>\n",
              "  <clipPath id=\"clip791\">\n",
              "    <rect x=\"480\" y=\"0\" width=\"1681\" height=\"1600\"/>\n",
              "  </clipPath>\n",
              "</defs>\n",
              "<path clip-path=\"url(#clip790)\" d=\"M203.964 1423.18 L2352.76 1423.18 L2352.76 47.2441 L203.964 47.2441  Z\" fill=\"#ffffff\" fill-rule=\"evenodd\" fill-opacity=\"1\"/>\n",
              "<defs>\n",
              "  <clipPath id=\"clip792\">\n",
              "    <rect x=\"203\" y=\"47\" width=\"2150\" height=\"1377\"/>\n",
              "  </clipPath>\n",
              "</defs>\n",
              "<polyline clip-path=\"url(#clip792)\" style=\"stroke:#000000; stroke-linecap:round; stroke-linejoin:round; stroke-width:2; stroke-opacity:0.1; fill:none\" points=\"467.495,1423.18 467.495,47.2441 \"/>\n",
              "<polyline clip-path=\"url(#clip792)\" style=\"stroke:#000000; stroke-linecap:round; stroke-linejoin:round; stroke-width:2; stroke-opacity:0.1; fill:none\" points=\"872.927,1423.18 872.927,47.2441 \"/>\n",
              "<polyline clip-path=\"url(#clip792)\" style=\"stroke:#000000; stroke-linecap:round; stroke-linejoin:round; stroke-width:2; stroke-opacity:0.1; fill:none\" points=\"1278.36,1423.18 1278.36,47.2441 \"/>\n",
              "<polyline clip-path=\"url(#clip792)\" style=\"stroke:#000000; stroke-linecap:round; stroke-linejoin:round; stroke-width:2; stroke-opacity:0.1; fill:none\" points=\"1683.79,1423.18 1683.79,47.2441 \"/>\n",
              "<polyline clip-path=\"url(#clip792)\" style=\"stroke:#000000; stroke-linecap:round; stroke-linejoin:round; stroke-width:2; stroke-opacity:0.1; fill:none\" points=\"2089.22,1423.18 2089.22,47.2441 \"/>\n",
              "<polyline clip-path=\"url(#clip790)\" style=\"stroke:#000000; stroke-linecap:round; stroke-linejoin:round; stroke-width:4; stroke-opacity:1; fill:none\" points=\"203.964,1423.18 2352.76,1423.18 \"/>\n",
              "<polyline clip-path=\"url(#clip790)\" style=\"stroke:#000000; stroke-linecap:round; stroke-linejoin:round; stroke-width:4; stroke-opacity:1; fill:none\" points=\"467.495,1423.18 467.495,1404.28 \"/>\n",
              "<polyline clip-path=\"url(#clip790)\" style=\"stroke:#000000; stroke-linecap:round; stroke-linejoin:round; stroke-width:4; stroke-opacity:1; fill:none\" points=\"872.927,1423.18 872.927,1404.28 \"/>\n",
              "<polyline clip-path=\"url(#clip790)\" style=\"stroke:#000000; stroke-linecap:round; stroke-linejoin:round; stroke-width:4; stroke-opacity:1; fill:none\" points=\"1278.36,1423.18 1278.36,1404.28 \"/>\n",
              "<polyline clip-path=\"url(#clip790)\" style=\"stroke:#000000; stroke-linecap:round; stroke-linejoin:round; stroke-width:4; stroke-opacity:1; fill:none\" points=\"1683.79,1423.18 1683.79,1404.28 \"/>\n",
              "<polyline clip-path=\"url(#clip790)\" style=\"stroke:#000000; stroke-linecap:round; stroke-linejoin:round; stroke-width:4; stroke-opacity:1; fill:none\" points=\"2089.22,1423.18 2089.22,1404.28 \"/>\n",
              "<path clip-path=\"url(#clip790)\" d=\"M462.148 1481.64 L478.467 1481.64 L478.467 1485.58 L456.523 1485.58 L456.523 1481.64 Q459.185 1478.89 463.768 1474.26 Q468.374 1469.61 469.555 1468.27 Q471.8 1465.74 472.68 1464.01 Q473.583 1462.25 473.583 1460.56 Q473.583 1457.8 471.638 1456.07 Q469.717 1454.33 466.615 1454.33 Q464.416 1454.33 461.962 1455.09 Q459.532 1455.86 456.754 1457.41 L456.754 1452.69 Q459.578 1451.55 462.032 1450.97 Q464.485 1450.39 466.522 1450.39 Q471.893 1450.39 475.087 1453.08 Q478.282 1455.77 478.282 1460.26 Q478.282 1462.39 477.472 1464.31 Q476.684 1466.2 474.578 1468.8 Q473.999 1469.47 470.897 1472.69 Q467.796 1475.88 462.148 1481.64 Z\" fill=\"#000000\" fill-rule=\"nonzero\" fill-opacity=\"1\" /><path clip-path=\"url(#clip790)\" d=\"M875.936 1455.09 L864.131 1473.54 L875.936 1473.54 L875.936 1455.09 M874.71 1451.02 L880.589 1451.02 L880.589 1473.54 L885.52 1473.54 L885.52 1477.43 L880.589 1477.43 L880.589 1485.58 L875.936 1485.58 L875.936 1477.43 L860.335 1477.43 L860.335 1472.92 L874.71 1451.02 Z\" fill=\"#000000\" fill-rule=\"nonzero\" fill-opacity=\"1\" /><path clip-path=\"url(#clip790)\" d=\"M1278.76 1466.44 Q1275.62 1466.44 1273.76 1468.59 Q1271.94 1470.74 1271.94 1474.49 Q1271.94 1478.22 1273.76 1480.39 Q1275.62 1482.55 1278.76 1482.55 Q1281.91 1482.55 1283.74 1480.39 Q1285.59 1478.22 1285.59 1474.49 Q1285.59 1470.74 1283.74 1468.59 Q1281.91 1466.44 1278.76 1466.44 M1288.05 1451.78 L1288.05 1456.04 Q1286.29 1455.21 1284.48 1454.77 Q1282.7 1454.33 1280.94 1454.33 Q1276.31 1454.33 1273.86 1457.45 Q1271.43 1460.58 1271.08 1466.9 Q1272.45 1464.89 1274.51 1463.82 Q1276.57 1462.73 1279.04 1462.73 Q1284.25 1462.73 1287.26 1465.9 Q1290.29 1469.05 1290.29 1474.49 Q1290.29 1479.82 1287.14 1483.03 Q1284 1486.25 1278.76 1486.25 Q1272.77 1486.25 1269.6 1481.67 Q1266.43 1477.06 1266.43 1468.33 Q1266.43 1460.14 1270.32 1455.28 Q1274.2 1450.39 1280.76 1450.39 Q1282.51 1450.39 1284.3 1450.74 Q1286.1 1451.09 1288.05 1451.78 Z\" fill=\"#000000\" fill-rule=\"nonzero\" fill-opacity=\"1\" /><path clip-path=\"url(#clip790)\" d=\"M1683.79 1469.17 Q1680.46 1469.17 1678.54 1470.95 Q1676.64 1472.73 1676.64 1475.86 Q1676.64 1478.98 1678.54 1480.77 Q1680.46 1482.55 1683.79 1482.55 Q1687.13 1482.55 1689.05 1480.77 Q1690.97 1478.96 1690.97 1475.86 Q1690.97 1472.73 1689.05 1470.95 Q1687.15 1469.17 1683.79 1469.17 M1679.12 1467.18 Q1676.11 1466.44 1674.42 1464.38 Q1672.75 1462.32 1672.75 1459.35 Q1672.75 1455.21 1675.69 1452.8 Q1678.65 1450.39 1683.79 1450.39 Q1688.95 1450.39 1691.89 1452.8 Q1694.83 1455.21 1694.83 1459.35 Q1694.83 1462.32 1693.14 1464.38 Q1691.48 1466.44 1688.49 1467.18 Q1691.87 1467.96 1693.75 1470.26 Q1695.64 1472.55 1695.64 1475.86 Q1695.64 1480.88 1692.57 1483.57 Q1689.51 1486.25 1683.79 1486.25 Q1678.07 1486.25 1675 1483.57 Q1671.94 1480.88 1671.94 1475.86 Q1671.94 1472.55 1673.84 1470.26 Q1675.74 1467.96 1679.12 1467.18 M1677.4 1459.79 Q1677.4 1462.48 1679.07 1463.98 Q1680.76 1465.49 1683.79 1465.49 Q1686.8 1465.49 1688.49 1463.98 Q1690.2 1462.48 1690.2 1459.79 Q1690.2 1457.11 1688.49 1455.6 Q1686.8 1454.1 1683.79 1454.1 Q1680.76 1454.1 1679.07 1455.6 Q1677.4 1457.11 1677.4 1459.79 Z\" fill=\"#000000\" fill-rule=\"nonzero\" fill-opacity=\"1\" /><path clip-path=\"url(#clip790)\" d=\"M2063.91 1481.64 L2071.55 1481.64 L2071.55 1455.28 L2063.24 1456.95 L2063.24 1452.69 L2071.5 1451.02 L2076.18 1451.02 L2076.18 1481.64 L2083.82 1481.64 L2083.82 1485.58 L2063.91 1485.58 L2063.91 1481.64 Z\" fill=\"#000000\" fill-rule=\"nonzero\" fill-opacity=\"1\" /><path clip-path=\"url(#clip790)\" d=\"M2103.26 1454.1 Q2099.65 1454.1 2097.82 1457.66 Q2096.02 1461.2 2096.02 1468.33 Q2096.02 1475.44 2097.82 1479.01 Q2099.65 1482.55 2103.26 1482.55 Q2106.9 1482.55 2108.7 1479.01 Q2110.53 1475.44 2110.53 1468.33 Q2110.53 1461.2 2108.7 1457.66 Q2106.9 1454.1 2103.26 1454.1 M2103.26 1450.39 Q2109.07 1450.39 2112.13 1455 Q2115.21 1459.58 2115.21 1468.33 Q2115.21 1477.06 2112.13 1481.67 Q2109.07 1486.25 2103.26 1486.25 Q2097.45 1486.25 2094.38 1481.67 Q2091.32 1477.06 2091.32 1468.33 Q2091.32 1459.58 2094.38 1455 Q2097.45 1450.39 2103.26 1450.39 Z\" fill=\"#000000\" fill-rule=\"nonzero\" fill-opacity=\"1\" /><path clip-path=\"url(#clip790)\" d=\"M1149.36 1532.4 L1155.22 1532.4 L1155.22 1568.04 L1149.36 1568.04 L1149.36 1532.4 M1149.36 1518.52 L1155.22 1518.52 L1155.22 1525.93 L1149.36 1525.93 L1149.36 1518.52 Z\" fill=\"#000000\" fill-rule=\"nonzero\" fill-opacity=\"1\" /><path clip-path=\"url(#clip790)\" d=\"M1197.1 1546.53 L1197.1 1568.04 L1191.25 1568.04 L1191.25 1546.72 Q1191.25 1541.66 1189.27 1539.14 Q1187.3 1536.63 1183.35 1536.63 Q1178.61 1536.63 1175.87 1539.65 Q1173.13 1542.68 1173.13 1547.9 L1173.13 1568.04 L1167.25 1568.04 L1167.25 1532.4 L1173.13 1532.4 L1173.13 1537.93 Q1175.24 1534.72 1178.07 1533.13 Q1180.93 1531.54 1184.66 1531.54 Q1190.8 1531.54 1193.95 1535.36 Q1197.1 1539.14 1197.1 1546.53 Z\" fill=\"#000000\" fill-rule=\"nonzero\" fill-opacity=\"1\" /><path clip-path=\"url(#clip790)\" d=\"M1214.58 1522.27 L1214.58 1532.4 L1226.64 1532.4 L1226.64 1536.95 L1214.58 1536.95 L1214.58 1556.3 Q1214.58 1560.66 1215.75 1561.9 Q1216.96 1563.14 1220.62 1563.14 L1226.64 1563.14 L1226.64 1568.04 L1220.62 1568.04 Q1213.84 1568.04 1211.27 1565.53 Q1208.69 1562.98 1208.69 1556.3 L1208.69 1536.95 L1204.39 1536.95 L1204.39 1532.4 L1208.69 1532.4 L1208.69 1522.27 L1214.58 1522.27 Z\" fill=\"#000000\" fill-rule=\"nonzero\" fill-opacity=\"1\" /><path clip-path=\"url(#clip790)\" d=\"M1264.83 1548.76 L1264.83 1551.62 L1237.91 1551.62 Q1238.29 1557.67 1241.53 1560.85 Q1244.81 1564 1250.64 1564 Q1254.01 1564 1257.16 1563.17 Q1260.34 1562.35 1263.46 1560.69 L1263.46 1566.23 Q1260.31 1567.57 1257 1568.27 Q1253.69 1568.97 1250.29 1568.97 Q1241.76 1568.97 1236.76 1564 Q1231.79 1559.04 1231.79 1550.57 Q1231.79 1541.82 1236.51 1536.69 Q1241.25 1531.54 1249.27 1531.54 Q1256.46 1531.54 1260.63 1536.18 Q1264.83 1540.8 1264.83 1548.76 M1258.98 1547.04 Q1258.91 1542.23 1256.27 1539.37 Q1253.66 1536.5 1249.33 1536.5 Q1244.43 1536.5 1241.47 1539.27 Q1238.54 1542.04 1238.1 1547.07 L1258.98 1547.04 Z\" fill=\"#000000\" fill-rule=\"nonzero\" fill-opacity=\"1\" /><path clip-path=\"url(#clip790)\" d=\"M1297.9 1549.81 Q1297.9 1543.44 1295.26 1539.94 Q1292.65 1536.44 1287.91 1536.44 Q1283.2 1536.44 1280.56 1539.94 Q1277.95 1543.44 1277.95 1549.81 Q1277.95 1556.14 1280.56 1559.64 Q1283.2 1563.14 1287.91 1563.14 Q1292.65 1563.14 1295.26 1559.64 Q1297.9 1556.14 1297.9 1549.81 M1303.76 1563.62 Q1303.76 1572.72 1299.72 1577.15 Q1295.67 1581.6 1287.34 1581.6 Q1284.25 1581.6 1281.51 1581.13 Q1278.77 1580.68 1276.2 1579.72 L1276.2 1574.03 Q1278.77 1575.43 1281.29 1576.1 Q1283.8 1576.76 1286.41 1576.76 Q1292.17 1576.76 1295.04 1573.74 Q1297.9 1570.75 1297.9 1564.67 L1297.9 1561.77 Q1296.09 1564.92 1293.26 1566.48 Q1290.42 1568.04 1286.48 1568.04 Q1279.92 1568.04 1275.91 1563.05 Q1271.9 1558.05 1271.9 1549.81 Q1271.9 1541.53 1275.91 1536.53 Q1279.92 1531.54 1286.48 1531.54 Q1290.42 1531.54 1293.26 1533.1 Q1296.09 1534.66 1297.9 1537.81 L1297.9 1532.4 L1303.76 1532.4 L1303.76 1563.62 Z\" fill=\"#000000\" fill-rule=\"nonzero\" fill-opacity=\"1\" /><path clip-path=\"url(#clip790)\" d=\"M1346.31 1548.76 L1346.31 1551.62 L1319.39 1551.62 Q1319.77 1557.67 1323.02 1560.85 Q1326.29 1564 1332.12 1564 Q1335.49 1564 1338.64 1563.17 Q1341.83 1562.35 1344.95 1560.69 L1344.95 1566.23 Q1341.79 1567.57 1338.48 1568.27 Q1335.17 1568.97 1331.77 1568.97 Q1323.24 1568.97 1318.24 1564 Q1313.28 1559.04 1313.28 1550.57 Q1313.28 1541.82 1317.99 1536.69 Q1322.73 1531.54 1330.75 1531.54 Q1337.94 1531.54 1342.11 1536.18 Q1346.31 1540.8 1346.31 1548.76 M1340.46 1547.04 Q1340.39 1542.23 1337.75 1539.37 Q1335.14 1536.5 1330.81 1536.5 Q1325.91 1536.5 1322.95 1539.27 Q1320.02 1542.04 1319.58 1547.07 L1340.46 1547.04 Z\" fill=\"#000000\" fill-rule=\"nonzero\" fill-opacity=\"1\" /><path clip-path=\"url(#clip790)\" d=\"M1376.58 1537.87 Q1375.6 1537.3 1374.42 1537.04 Q1373.27 1536.76 1371.87 1536.76 Q1366.91 1536.76 1364.23 1540 Q1361.59 1543.22 1361.59 1549.27 L1361.59 1568.04 L1355.7 1568.04 L1355.7 1532.4 L1361.59 1532.4 L1361.59 1537.93 Q1363.44 1534.69 1366.4 1533.13 Q1369.36 1531.54 1373.59 1531.54 Q1374.2 1531.54 1374.93 1531.63 Q1375.66 1531.7 1376.55 1531.85 L1376.58 1537.87 Z\" fill=\"#000000\" fill-rule=\"nonzero\" fill-opacity=\"1\" /><path clip-path=\"url(#clip790)\" d=\"M1405.45 1533.45 L1405.45 1538.98 Q1402.97 1537.71 1400.29 1537.07 Q1397.62 1536.44 1394.76 1536.44 Q1390.4 1536.44 1388.2 1537.77 Q1386.04 1539.11 1386.04 1541.79 Q1386.04 1543.82 1387.6 1545 Q1389.15 1546.15 1393.87 1547.2 L1395.87 1547.64 Q1402.11 1548.98 1404.72 1551.43 Q1407.36 1553.85 1407.36 1558.21 Q1407.36 1563.17 1403.41 1566.07 Q1399.5 1568.97 1392.62 1568.97 Q1389.76 1568.97 1386.64 1568.39 Q1383.55 1567.85 1380.12 1566.74 L1380.12 1560.69 Q1383.36 1562.38 1386.51 1563.24 Q1389.66 1564.07 1392.75 1564.07 Q1396.89 1564.07 1399.12 1562.66 Q1401.35 1561.23 1401.35 1558.65 Q1401.35 1556.27 1399.72 1554.99 Q1398.13 1553.72 1392.69 1552.54 L1390.65 1552.07 Q1385.21 1550.92 1382.79 1548.56 Q1380.37 1546.18 1380.37 1542.04 Q1380.37 1537.01 1383.93 1534.27 Q1387.5 1531.54 1394.06 1531.54 Q1397.3 1531.54 1400.17 1532.01 Q1403.03 1532.49 1405.45 1533.45 Z\" fill=\"#000000\" fill-rule=\"nonzero\" fill-opacity=\"1\" /><polyline clip-path=\"url(#clip792)\" style=\"stroke:#000000; stroke-linecap:round; stroke-linejoin:round; stroke-width:2; stroke-opacity:0.1; fill:none\" points=\"203.964,1384.24 2352.76,1384.24 \"/>\n",
              "<polyline clip-path=\"url(#clip792)\" style=\"stroke:#000000; stroke-linecap:round; stroke-linejoin:round; stroke-width:2; stroke-opacity:0.1; fill:none\" points=\"203.964,1124.63 2352.76,1124.63 \"/>\n",
              "<polyline clip-path=\"url(#clip792)\" style=\"stroke:#000000; stroke-linecap:round; stroke-linejoin:round; stroke-width:2; stroke-opacity:0.1; fill:none\" points=\"203.964,865.017 2352.76,865.017 \"/>\n",
              "<polyline clip-path=\"url(#clip792)\" style=\"stroke:#000000; stroke-linecap:round; stroke-linejoin:round; stroke-width:2; stroke-opacity:0.1; fill:none\" points=\"203.964,605.407 2352.76,605.407 \"/>\n",
              "<polyline clip-path=\"url(#clip792)\" style=\"stroke:#000000; stroke-linecap:round; stroke-linejoin:round; stroke-width:2; stroke-opacity:0.1; fill:none\" points=\"203.964,345.796 2352.76,345.796 \"/>\n",
              "<polyline clip-path=\"url(#clip792)\" style=\"stroke:#000000; stroke-linecap:round; stroke-linejoin:round; stroke-width:2; stroke-opacity:0.1; fill:none\" points=\"203.964,86.1857 2352.76,86.1857 \"/>\n",
              "<polyline clip-path=\"url(#clip790)\" style=\"stroke:#000000; stroke-linecap:round; stroke-linejoin:round; stroke-width:4; stroke-opacity:1; fill:none\" points=\"203.964,1423.18 203.964,47.2441 \"/>\n",
              "<polyline clip-path=\"url(#clip790)\" style=\"stroke:#000000; stroke-linecap:round; stroke-linejoin:round; stroke-width:4; stroke-opacity:1; fill:none\" points=\"203.964,1384.24 222.861,1384.24 \"/>\n",
              "<polyline clip-path=\"url(#clip790)\" style=\"stroke:#000000; stroke-linecap:round; stroke-linejoin:round; stroke-width:4; stroke-opacity:1; fill:none\" points=\"203.964,1124.63 222.861,1124.63 \"/>\n",
              "<polyline clip-path=\"url(#clip790)\" style=\"stroke:#000000; stroke-linecap:round; stroke-linejoin:round; stroke-width:4; stroke-opacity:1; fill:none\" points=\"203.964,865.017 222.861,865.017 \"/>\n",
              "<polyline clip-path=\"url(#clip790)\" style=\"stroke:#000000; stroke-linecap:round; stroke-linejoin:round; stroke-width:4; stroke-opacity:1; fill:none\" points=\"203.964,605.407 222.861,605.407 \"/>\n",
              "<polyline clip-path=\"url(#clip790)\" style=\"stroke:#000000; stroke-linecap:round; stroke-linejoin:round; stroke-width:4; stroke-opacity:1; fill:none\" points=\"203.964,345.796 222.861,345.796 \"/>\n",
              "<polyline clip-path=\"url(#clip790)\" style=\"stroke:#000000; stroke-linecap:round; stroke-linejoin:round; stroke-width:4; stroke-opacity:1; fill:none\" points=\"203.964,86.1857 222.861,86.1857 \"/>\n",
              "<path clip-path=\"url(#clip790)\" d=\"M156.019 1370.04 Q152.408 1370.04 150.579 1373.6 Q148.774 1377.14 148.774 1384.27 Q148.774 1391.38 150.579 1394.94 Q152.408 1398.49 156.019 1398.49 Q159.653 1398.49 161.459 1394.94 Q163.288 1391.38 163.288 1384.27 Q163.288 1377.14 161.459 1373.6 Q159.653 1370.04 156.019 1370.04 M156.019 1366.33 Q161.829 1366.33 164.885 1370.94 Q167.964 1375.52 167.964 1384.27 Q167.964 1393 164.885 1397.61 Q161.829 1402.19 156.019 1402.19 Q150.209 1402.19 147.13 1397.61 Q144.075 1393 144.075 1384.27 Q144.075 1375.52 147.13 1370.94 Q150.209 1366.33 156.019 1366.33 Z\" fill=\"#000000\" fill-rule=\"nonzero\" fill-opacity=\"1\" /><path clip-path=\"url(#clip790)\" d=\"M147.061 1107.35 L165.417 1107.35 L165.417 1111.28 L151.343 1111.28 L151.343 1119.76 Q152.362 1119.41 153.38 1119.25 Q154.399 1119.06 155.417 1119.06 Q161.204 1119.06 164.584 1122.23 Q167.964 1125.4 167.964 1130.82 Q167.964 1136.4 164.491 1139.5 Q161.019 1142.58 154.7 1142.58 Q152.524 1142.58 150.255 1142.21 Q148.01 1141.84 145.603 1141.1 L145.603 1136.4 Q147.686 1137.53 149.908 1138.09 Q152.13 1138.64 154.607 1138.64 Q158.612 1138.64 160.95 1136.54 Q163.288 1134.43 163.288 1130.82 Q163.288 1127.21 160.95 1125.1 Q158.612 1123 154.607 1123 Q152.732 1123 150.857 1123.41 Q149.005 1123.83 147.061 1124.71 L147.061 1107.35 Z\" fill=\"#000000\" fill-rule=\"nonzero\" fill-opacity=\"1\" /><path clip-path=\"url(#clip790)\" d=\"M116.668 878.362 L124.306 878.362 L124.306 851.996 L115.996 853.663 L115.996 849.404 L124.26 847.737 L128.936 847.737 L128.936 878.362 L136.575 878.362 L136.575 882.297 L116.668 882.297 L116.668 878.362 Z\" fill=\"#000000\" fill-rule=\"nonzero\" fill-opacity=\"1\" /><path clip-path=\"url(#clip790)\" d=\"M156.019 850.816 Q152.408 850.816 150.579 854.381 Q148.774 857.922 148.774 865.052 Q148.774 872.158 150.579 875.723 Q152.408 879.265 156.019 879.265 Q159.653 879.265 161.459 875.723 Q163.288 872.158 163.288 865.052 Q163.288 857.922 161.459 854.381 Q159.653 850.816 156.019 850.816 M156.019 847.112 Q161.829 847.112 164.885 851.719 Q167.964 856.302 167.964 865.052 Q167.964 873.779 164.885 878.385 Q161.829 882.969 156.019 882.969 Q150.209 882.969 147.13 878.385 Q144.075 873.779 144.075 865.052 Q144.075 856.302 147.13 851.719 Q150.209 847.112 156.019 847.112 Z\" fill=\"#000000\" fill-rule=\"nonzero\" fill-opacity=\"1\" /><path clip-path=\"url(#clip790)\" d=\"M117.663 618.752 L125.302 618.752 L125.302 592.386 L116.992 594.053 L116.992 589.793 L125.255 588.127 L129.931 588.127 L129.931 618.752 L137.57 618.752 L137.57 622.687 L117.663 622.687 L117.663 618.752 Z\" fill=\"#000000\" fill-rule=\"nonzero\" fill-opacity=\"1\" /><path clip-path=\"url(#clip790)\" d=\"M147.061 588.127 L165.417 588.127 L165.417 592.062 L151.343 592.062 L151.343 600.534 Q152.362 600.187 153.38 600.025 Q154.399 599.84 155.417 599.84 Q161.204 599.84 164.584 603.011 Q167.964 606.182 167.964 611.599 Q167.964 617.177 164.491 620.279 Q161.019 623.358 154.7 623.358 Q152.524 623.358 150.255 622.988 Q148.01 622.617 145.603 621.877 L145.603 617.177 Q147.686 618.312 149.908 618.867 Q152.13 619.423 154.607 619.423 Q158.612 619.423 160.95 617.316 Q163.288 615.21 163.288 611.599 Q163.288 607.988 160.95 605.881 Q158.612 603.775 154.607 603.775 Q152.732 603.775 150.857 604.191 Q149.005 604.608 147.061 605.488 L147.061 588.127 Z\" fill=\"#000000\" fill-rule=\"nonzero\" fill-opacity=\"1\" /><path clip-path=\"url(#clip790)\" d=\"M119.885 359.141 L136.204 359.141 L136.204 363.076 L114.26 363.076 L114.26 359.141 Q116.922 356.386 121.505 351.757 Q126.112 347.104 127.292 345.761 Q129.538 343.238 130.417 341.502 Q131.32 339.743 131.32 338.053 Q131.32 335.299 129.376 333.562 Q127.455 331.826 124.353 331.826 Q122.154 331.826 119.7 332.59 Q117.269 333.354 114.492 334.905 L114.492 330.183 Q117.316 329.049 119.769 328.47 Q122.223 327.891 124.26 327.891 Q129.63 327.891 132.825 330.576 Q136.019 333.262 136.019 337.752 Q136.019 339.882 135.209 341.803 Q134.422 343.701 132.316 346.294 Q131.737 346.965 128.635 350.183 Q125.533 353.377 119.885 359.141 Z\" fill=\"#000000\" fill-rule=\"nonzero\" fill-opacity=\"1\" /><path clip-path=\"url(#clip790)\" d=\"M156.019 331.595 Q152.408 331.595 150.579 335.16 Q148.774 338.701 148.774 345.831 Q148.774 352.937 150.579 356.502 Q152.408 360.044 156.019 360.044 Q159.653 360.044 161.459 356.502 Q163.288 352.937 163.288 345.831 Q163.288 338.701 161.459 335.16 Q159.653 331.595 156.019 331.595 M156.019 327.891 Q161.829 327.891 164.885 332.498 Q167.964 337.081 167.964 345.831 Q167.964 354.558 164.885 359.164 Q161.829 363.747 156.019 363.747 Q150.209 363.747 147.13 359.164 Q144.075 354.558 144.075 345.831 Q144.075 337.081 147.13 332.498 Q150.209 327.891 156.019 327.891 Z\" fill=\"#000000\" fill-rule=\"nonzero\" fill-opacity=\"1\" /><path clip-path=\"url(#clip790)\" d=\"M120.88 99.5305 L137.2 99.5305 L137.2 103.466 L115.256 103.466 L115.256 99.5305 Q117.918 96.7759 122.501 92.1463 Q127.107 87.4935 128.288 86.151 Q130.533 83.6278 131.413 81.8917 Q132.316 80.1325 132.316 78.4427 Q132.316 75.688 130.371 73.9519 Q128.45 72.2158 125.348 72.2158 Q123.149 72.2158 120.695 72.9797 Q118.265 73.7436 115.487 75.2945 L115.487 70.5723 Q118.311 69.4381 120.765 68.8594 Q123.218 68.2807 125.255 68.2807 Q130.626 68.2807 133.82 70.9658 Q137.015 73.651 137.015 78.1417 Q137.015 80.2714 136.204 82.1926 Q135.417 84.0908 133.311 86.6834 Q132.732 87.3546 129.63 90.5722 Q126.529 93.7667 120.88 99.5305 Z\" fill=\"#000000\" fill-rule=\"nonzero\" fill-opacity=\"1\" /><path clip-path=\"url(#clip790)\" d=\"M147.061 68.9057 L165.417 68.9057 L165.417 72.8408 L151.343 72.8408 L151.343 81.313 Q152.362 80.9658 153.38 80.8038 Q154.399 80.6186 155.417 80.6186 Q161.204 80.6186 164.584 83.7899 Q167.964 86.9611 167.964 92.3778 Q167.964 97.9564 164.491 101.058 Q161.019 104.137 154.7 104.137 Q152.524 104.137 150.255 103.767 Q148.01 103.396 145.603 102.655 L145.603 97.9564 Q147.686 99.0907 149.908 99.6462 Q152.13 100.202 154.607 100.202 Q158.612 100.202 160.95 98.0953 Q163.288 95.9889 163.288 92.3778 Q163.288 88.7667 160.95 86.6602 Q158.612 84.5537 154.607 84.5537 Q152.732 84.5537 150.857 84.9704 Q149.005 85.3871 147.061 86.2667 L147.061 68.9057 Z\" fill=\"#000000\" fill-rule=\"nonzero\" fill-opacity=\"1\" /><path clip-path=\"url(#clip790)\" d=\"M29.4065 1020.33 L34.9447 1020.33 Q33.6716 1022.81 33.035 1025.49 Q32.3984 1028.16 32.3984 1031.03 Q32.3984 1035.39 33.7352 1037.58 Q35.072 1039.75 37.7456 1039.75 Q39.7826 1039.75 40.9603 1038.19 Q42.1061 1036.63 43.1565 1031.92 L43.6021 1029.91 Q44.9389 1023.67 47.3897 1021.06 Q49.8086 1018.42 54.1691 1018.42 Q59.1344 1018.42 62.0308 1022.37 Q64.9272 1026.28 64.9272 1033.16 Q64.9272 1036.02 64.3543 1039.14 Q63.8132 1042.23 62.6992 1045.67 L56.6518 1045.67 Q58.3387 1042.42 59.198 1039.27 Q60.0256 1036.12 60.0256 1033.03 Q60.0256 1028.89 58.6251 1026.67 Q57.1929 1024.44 54.6147 1024.44 Q52.2276 1024.44 50.9545 1026.06 Q49.6813 1027.65 48.5037 1033.1 L48.0262 1035.13 Q46.8804 1040.57 44.5251 1042.99 Q42.138 1045.41 38.0002 1045.41 Q32.9713 1045.41 30.2341 1041.85 Q27.4968 1038.28 27.4968 1031.73 Q27.4968 1028.48 27.9743 1025.62 Q28.4517 1022.75 29.4065 1020.33 Z\" fill=\"#000000\" fill-rule=\"nonzero\" fill-opacity=\"1\" /><path clip-path=\"url(#clip790)\" d=\"M46.212 1005.6 Q52.6732 1005.6 56.3653 1002.95 Q60.0256 1000.28 60.0256 995.633 Q60.0256 990.986 56.3653 988.312 Q52.6732 985.639 46.212 985.639 Q39.7508 985.639 36.0905 988.312 Q32.3984 990.986 32.3984 995.633 Q32.3984 1000.28 36.0905 1002.95 Q39.7508 1005.6 46.212 1005.6 M58.657 985.639 Q61.8398 987.485 63.3994 990.318 Q64.9272 993.119 64.9272 997.065 Q64.9272 1003.53 59.771 1007.6 Q54.6147 1011.64 46.212 1011.64 Q37.8093 1011.64 32.6531 1007.6 Q27.4968 1003.53 27.4968 997.065 Q27.4968 993.119 29.0564 990.318 Q30.5842 987.485 33.7671 985.639 L28.3562 985.639 L28.3562 979.782 L77.5631 979.782 L77.5631 985.639 L58.657 985.639 Z\" fill=\"#000000\" fill-rule=\"nonzero\" fill-opacity=\"1\" /><path clip-path=\"url(#clip790)\" d=\"M49.9359 968.324 L28.3562 968.324 L28.3562 962.468 L49.7131 962.468 Q54.7739 962.468 57.3202 960.494 Q59.8346 958.521 59.8346 954.574 Q59.8346 949.832 56.8109 947.095 Q53.7872 944.325 48.5673 944.325 L28.3562 944.325 L28.3562 938.469 L64.0042 938.469 L64.0042 944.325 L58.5296 944.325 Q61.7762 946.458 63.3676 949.291 Q64.9272 952.092 64.9272 955.816 Q64.9272 961.958 61.1078 965.141 Q57.2883 968.324 49.9359 968.324 M27.4968 953.588 L27.4968 953.588 Z\" fill=\"#000000\" fill-rule=\"nonzero\" fill-opacity=\"1\" /><path clip-path=\"url(#clip790)\" d=\"M46.0847 910.205 Q46.0847 917.303 47.7079 920.04 Q49.3312 922.778 53.2461 922.778 Q56.3653 922.778 58.2114 920.74 Q60.0256 918.672 60.0256 915.139 Q60.0256 910.269 56.5881 907.341 Q53.1188 904.381 47.3897 904.381 L46.0847 904.381 L46.0847 910.205 M43.6657 898.524 L64.0042 898.524 L64.0042 904.381 L58.5933 904.381 Q61.8398 906.386 63.3994 909.378 Q64.9272 912.37 64.9272 916.698 Q64.9272 922.173 61.8716 925.419 Q58.7843 928.634 53.6281 928.634 Q47.6125 928.634 44.5569 924.624 Q41.5014 920.581 41.5014 912.592 L41.5014 904.381 L40.9285 904.381 Q36.8862 904.381 34.6901 907.054 Q32.4621 909.696 32.4621 914.502 Q32.4621 917.558 33.1941 920.454 Q33.9262 923.35 35.3903 926.024 L29.9795 926.024 Q28.7381 922.809 28.1334 919.786 Q27.4968 916.762 27.4968 913.897 Q27.4968 906.163 31.5072 902.344 Q35.5176 898.524 43.6657 898.524 Z\" fill=\"#000000\" fill-rule=\"nonzero\" fill-opacity=\"1\" /><path clip-path=\"url(#clip790)\" d=\"M33.8307 865.804 Q33.2578 866.791 33.0032 867.969 Q32.7167 869.115 32.7167 870.515 Q32.7167 875.48 35.9632 878.154 Q39.1779 880.796 45.2253 880.796 L64.0042 880.796 L64.0042 886.684 L28.3562 886.684 L28.3562 880.796 L33.8944 880.796 Q30.6479 878.95 29.0883 875.99 Q27.4968 873.03 27.4968 868.796 Q27.4968 868.192 27.5923 867.46 Q27.656 866.727 27.8151 865.836 L33.8307 865.804 Z\" fill=\"#000000\" fill-rule=\"nonzero\" fill-opacity=\"1\" /><path clip-path=\"url(#clip790)\" d=\"M44.7161 830.602 L47.5806 830.602 L47.5806 857.529 Q53.6281 857.147 56.8109 853.901 Q59.9619 850.622 59.9619 844.798 Q59.9619 841.424 59.1344 838.273 Q58.3069 835.09 56.6518 831.971 L62.1899 831.971 Q63.5267 835.122 64.227 838.432 Q64.9272 841.742 64.9272 845.148 Q64.9272 853.678 59.9619 858.675 Q54.9967 863.64 46.5303 863.64 Q37.7774 863.64 32.6531 858.929 Q27.4968 854.187 27.4968 846.166 Q27.4968 838.973 32.1438 834.803 Q36.7589 830.602 44.7161 830.602 M42.9973 836.459 Q38.1912 836.522 35.3266 839.164 Q32.4621 841.774 32.4621 846.103 Q32.4621 851.004 35.2312 853.964 Q38.0002 856.892 43.0292 857.338 L42.9973 836.459 Z\" fill=\"#000000\" fill-rule=\"nonzero\" fill-opacity=\"1\" /><path clip-path=\"url(#clip790)\" d=\"M29.4065 798.264 L34.9447 798.264 Q33.6716 800.747 33.035 803.421 Q32.3984 806.094 32.3984 808.959 Q32.3984 813.319 33.7352 815.515 Q35.072 817.68 37.7456 817.68 Q39.7826 817.68 40.9603 816.12 Q42.1061 814.561 43.1565 809.85 L43.6021 807.845 Q44.9389 801.606 47.3897 798.996 Q49.8086 796.355 54.1691 796.355 Q59.1344 796.355 62.0308 800.301 Q64.9272 804.216 64.9272 811.091 Q64.9272 813.956 64.3543 817.075 Q63.8132 820.162 62.6992 823.6 L56.6518 823.6 Q58.3387 820.353 59.198 817.202 Q60.0256 814.051 60.0256 810.964 Q60.0256 806.826 58.6251 804.598 Q57.1929 802.37 54.6147 802.37 Q52.2276 802.37 50.9545 803.993 Q49.6813 805.585 48.5037 811.028 L48.0262 813.065 Q46.8804 818.507 44.5251 820.926 Q42.138 823.345 38.0002 823.345 Q32.9713 823.345 30.2341 819.78 Q27.4968 816.216 27.4968 809.659 Q27.4968 806.412 27.9743 803.548 Q28.4517 800.683 29.4065 798.264 Z\" fill=\"#000000\" fill-rule=\"nonzero\" fill-opacity=\"1\" /><path clip-path=\"url(#clip790)\" d=\"M32.4621 752.495 Q32.4621 757.205 36.1542 759.943 Q39.8145 762.68 46.212 762.68 Q52.6095 762.68 56.3017 759.975 Q59.9619 757.237 59.9619 752.495 Q59.9619 747.816 56.2698 745.079 Q52.5777 742.342 46.212 742.342 Q39.8781 742.342 36.186 745.079 Q32.4621 747.816 32.4621 752.495 M27.4968 752.495 Q27.4968 744.856 32.4621 740.496 Q37.4273 736.135 46.212 736.135 Q54.9649 736.135 59.9619 740.496 Q64.9272 744.856 64.9272 752.495 Q64.9272 760.166 59.9619 764.526 Q54.9649 768.855 46.212 768.855 Q37.4273 768.855 32.4621 764.526 Q27.4968 760.166 27.4968 752.495 Z\" fill=\"#000000\" fill-rule=\"nonzero\" fill-opacity=\"1\" /><path clip-path=\"url(#clip790)\" d=\"M14.479 708.381 L19.3487 708.381 L19.3487 713.982 Q19.3487 717.133 20.6219 718.375 Q21.895 719.584 25.2052 719.584 L28.3562 719.584 L28.3562 709.94 L32.9077 709.94 L32.9077 719.584 L64.0042 719.584 L64.0042 725.472 L32.9077 725.472 L32.9077 731.074 L28.3562 731.074 L28.3562 725.472 L25.8736 725.472 Q19.9216 725.472 17.2162 722.703 Q14.479 719.934 14.479 713.919 L14.479 708.381 Z\" fill=\"#000000\" fill-rule=\"nonzero\" fill-opacity=\"1\" /><path clip-path=\"url(#clip790)\" d=\"M28.3562 682.759 L28.3562 676.902 L64.0042 676.902 L64.0042 682.759 L28.3562 682.759 M14.479 682.759 L14.479 676.902 L21.895 676.902 L21.895 682.759 L14.479 682.759 Z\" fill=\"#000000\" fill-rule=\"nonzero\" fill-opacity=\"1\" /><path clip-path=\"url(#clip790)\" d=\"M42.4881 635.016 L64.0042 635.016 L64.0042 640.872 L42.679 640.872 Q37.6183 640.872 35.1038 642.846 Q32.5894 644.819 32.5894 648.766 Q32.5894 653.508 35.6131 656.245 Q38.6368 658.983 43.8567 658.983 L64.0042 658.983 L64.0042 664.871 L28.3562 664.871 L28.3562 658.983 L33.8944 658.983 Q30.6797 656.882 29.0883 654.049 Q27.4968 651.185 27.4968 647.461 Q27.4968 641.318 31.3163 638.167 Q35.1038 635.016 42.4881 635.016 Z\" fill=\"#000000\" fill-rule=\"nonzero\" fill-opacity=\"1\" /><path clip-path=\"url(#clip790)\" d=\"M18.2347 617.542 L28.3562 617.542 L28.3562 605.479 L32.9077 605.479 L32.9077 617.542 L52.2594 617.542 Q56.6199 617.542 57.8613 616.364 Q59.1026 615.155 59.1026 611.494 L59.1026 605.479 L64.0042 605.479 L64.0042 611.494 Q64.0042 618.274 61.4897 620.852 Q58.9434 623.43 52.2594 623.43 L32.9077 623.43 L32.9077 627.727 L28.3562 627.727 L28.3562 623.43 L18.2347 623.43 L18.2347 617.542 Z\" fill=\"#000000\" fill-rule=\"nonzero\" fill-opacity=\"1\" /><path clip-path=\"url(#clip790)\" d=\"M44.7161 567.285 L47.5806 567.285 L47.5806 594.212 Q53.6281 593.83 56.8109 590.583 Q59.9619 587.305 59.9619 581.48 Q59.9619 578.106 59.1344 574.955 Q58.3069 571.772 56.6518 568.653 L62.1899 568.653 Q63.5267 571.804 64.227 575.114 Q64.9272 578.425 64.9272 581.83 Q64.9272 590.36 59.9619 595.357 Q54.9967 600.323 46.5303 600.323 Q37.7774 600.323 32.6531 595.612 Q27.4968 590.87 27.4968 582.849 Q27.4968 575.656 32.1438 571.486 Q36.7589 567.285 44.7161 567.285 M42.9973 573.141 Q38.1912 573.205 35.3266 575.847 Q32.4621 578.456 32.4621 582.785 Q32.4621 587.687 35.2312 590.647 Q38.0002 593.575 43.0292 594.021 L42.9973 573.141 Z\" fill=\"#000000\" fill-rule=\"nonzero\" fill-opacity=\"1\" /><path clip-path=\"url(#clip790)\" d=\"M45.7664 534.215 Q39.4007 534.215 35.8996 536.857 Q32.3984 539.466 32.3984 544.209 Q32.3984 548.92 35.8996 551.561 Q39.4007 554.171 45.7664 554.171 Q52.1003 554.171 55.6014 551.561 Q59.1026 548.92 59.1026 544.209 Q59.1026 539.466 55.6014 536.857 Q52.1003 534.215 45.7664 534.215 M59.58 528.358 Q68.683 528.358 73.1071 532.401 Q77.5631 536.443 77.5631 544.782 Q77.5631 547.869 77.0857 550.606 Q76.6401 553.344 75.6852 555.922 L69.9879 555.922 Q71.3884 553.344 72.0568 550.829 Q72.7252 548.315 72.7252 545.705 Q72.7252 539.944 69.7015 537.079 Q66.7096 534.215 60.6303 534.215 L57.7339 534.215 Q60.885 536.029 62.4446 538.862 Q64.0042 541.694 64.0042 545.641 Q64.0042 552.198 59.0071 556.208 Q54.01 560.219 45.7664 560.219 Q37.491 560.219 32.4939 556.208 Q27.4968 552.198 27.4968 545.641 Q27.4968 541.694 29.0564 538.862 Q30.616 536.029 33.7671 534.215 L28.3562 534.215 L28.3562 528.358 L59.58 528.358 Z\" fill=\"#000000\" fill-rule=\"nonzero\" fill-opacity=\"1\" /><path clip-path=\"url(#clip790)\" d=\"M44.7161 485.804 L47.5806 485.804 L47.5806 512.731 Q53.6281 512.349 56.8109 509.102 Q59.9619 505.824 59.9619 499.999 Q59.9619 496.625 59.1344 493.474 Q58.3069 490.291 56.6518 487.172 L62.1899 487.172 Q63.5267 490.323 64.227 493.633 Q64.9272 496.944 64.9272 500.349 Q64.9272 508.879 59.9619 513.876 Q54.9967 518.842 46.5303 518.842 Q37.7774 518.842 32.6531 514.131 Q27.4968 509.389 27.4968 501.368 Q27.4968 494.174 32.1438 490.005 Q36.7589 485.804 44.7161 485.804 M42.9973 491.66 Q38.1912 491.724 35.3266 494.365 Q32.4621 496.975 32.4621 501.304 Q32.4621 506.206 35.2312 509.166 Q38.0002 512.094 43.0292 512.54 L42.9973 491.66 Z\" fill=\"#000000\" fill-rule=\"nonzero\" fill-opacity=\"1\" /><path clip-path=\"url(#clip790)\" d=\"M33.8307 455.535 Q33.2578 456.521 33.0032 457.699 Q32.7167 458.845 32.7167 460.245 Q32.7167 465.211 35.9632 467.884 Q39.1779 470.526 45.2253 470.526 L64.0042 470.526 L64.0042 476.414 L28.3562 476.414 L28.3562 470.526 L33.8944 470.526 Q30.6479 468.68 29.0883 465.72 Q27.4968 462.76 27.4968 458.527 Q27.4968 457.922 27.5923 457.19 Q27.656 456.458 27.8151 455.566 L33.8307 455.535 Z\" fill=\"#000000\" fill-rule=\"nonzero\" fill-opacity=\"1\" /><path clip-path=\"url(#clip790)\" d=\"M29.4065 426.666 L34.9447 426.666 Q33.6716 429.149 33.035 431.822 Q32.3984 434.496 32.3984 437.361 Q32.3984 441.721 33.7352 443.917 Q35.072 446.082 37.7456 446.082 Q39.7826 446.082 40.9603 444.522 Q42.1061 442.962 43.1565 438.252 L43.6021 436.247 Q44.9389 430.008 47.3897 427.398 Q49.8086 424.756 54.1691 424.756 Q59.1344 424.756 62.0308 428.703 Q64.9272 432.618 64.9272 439.493 Q64.9272 442.358 64.3543 445.477 Q63.8132 448.564 62.6992 452.002 L56.6518 452.002 Q58.3387 448.755 59.198 445.604 Q60.0256 442.453 60.0256 439.366 Q60.0256 435.228 58.6251 433 Q57.1929 430.772 54.6147 430.772 Q52.2276 430.772 50.9545 432.395 Q49.6813 433.987 48.5037 439.429 L48.0262 441.466 Q46.8804 446.909 44.5251 449.328 Q42.138 451.747 38.0002 451.747 Q32.9713 451.747 30.2341 448.182 Q27.4968 444.617 27.4968 438.061 Q27.4968 434.814 27.9743 431.95 Q28.4517 429.085 29.4065 426.666 Z\" fill=\"#000000\" fill-rule=\"nonzero\" fill-opacity=\"1\" /><circle clip-path=\"url(#clip792)\" cx=\"264.778\" cy=\"86.1857\" r=\"14.4\" fill=\"#009af9\" fill-rule=\"evenodd\" fill-opacity=\"1\" stroke=\"#000000\" stroke-opacity=\"1\" stroke-width=\"3.2\"/>\n",
              "<circle clip-path=\"url(#clip792)\" cx=\"467.495\" cy=\"553.485\" r=\"14.4\" fill=\"#009af9\" fill-rule=\"evenodd\" fill-opacity=\"1\" stroke=\"#000000\" stroke-opacity=\"1\" stroke-width=\"3.2\"/>\n",
              "<circle clip-path=\"url(#clip792)\" cx=\"670.211\" cy=\"916.939\" r=\"14.4\" fill=\"#009af9\" fill-rule=\"evenodd\" fill-opacity=\"1\" stroke=\"#000000\" stroke-opacity=\"1\" stroke-width=\"3.2\"/>\n",
              "<circle clip-path=\"url(#clip792)\" cx=\"872.927\" cy=\"1176.55\" r=\"14.4\" fill=\"#009af9\" fill-rule=\"evenodd\" fill-opacity=\"1\" stroke=\"#000000\" stroke-opacity=\"1\" stroke-width=\"3.2\"/>\n",
              "<circle clip-path=\"url(#clip792)\" cx=\"1075.64\" cy=\"1332.32\" r=\"14.4\" fill=\"#009af9\" fill-rule=\"evenodd\" fill-opacity=\"1\" stroke=\"#000000\" stroke-opacity=\"1\" stroke-width=\"3.2\"/>\n",
              "<circle clip-path=\"url(#clip792)\" cx=\"1278.36\" cy=\"1384.24\" r=\"14.4\" fill=\"#009af9\" fill-rule=\"evenodd\" fill-opacity=\"1\" stroke=\"#000000\" stroke-opacity=\"1\" stroke-width=\"3.2\"/>\n",
              "<circle clip-path=\"url(#clip792)\" cx=\"1481.08\" cy=\"1332.32\" r=\"14.4\" fill=\"#009af9\" fill-rule=\"evenodd\" fill-opacity=\"1\" stroke=\"#000000\" stroke-opacity=\"1\" stroke-width=\"3.2\"/>\n",
              "<circle clip-path=\"url(#clip792)\" cx=\"1683.79\" cy=\"1176.55\" r=\"14.4\" fill=\"#009af9\" fill-rule=\"evenodd\" fill-opacity=\"1\" stroke=\"#000000\" stroke-opacity=\"1\" stroke-width=\"3.2\"/>\n",
              "<circle clip-path=\"url(#clip792)\" cx=\"1886.51\" cy=\"916.939\" r=\"14.4\" fill=\"#009af9\" fill-rule=\"evenodd\" fill-opacity=\"1\" stroke=\"#000000\" stroke-opacity=\"1\" stroke-width=\"3.2\"/>\n",
              "<circle clip-path=\"url(#clip792)\" cx=\"2089.22\" cy=\"553.485\" r=\"14.4\" fill=\"#009af9\" fill-rule=\"evenodd\" fill-opacity=\"1\" stroke=\"#000000\" stroke-opacity=\"1\" stroke-width=\"3.2\"/>\n",
              "<circle clip-path=\"url(#clip792)\" cx=\"2291.94\" cy=\"86.1857\" r=\"14.4\" fill=\"#009af9\" fill-rule=\"evenodd\" fill-opacity=\"1\" stroke=\"#000000\" stroke-opacity=\"1\" stroke-width=\"3.2\"/>\n",
              "</svg>\n"
            ],
            "text/html": [
              "<?xml version=\"1.0\" encoding=\"utf-8\"?>\n",
              "<svg xmlns=\"http://www.w3.org/2000/svg\" xmlns:xlink=\"http://www.w3.org/1999/xlink\" width=\"600\" height=\"400\" viewBox=\"0 0 2400 1600\">\n",
              "<defs>\n",
              "  <clipPath id=\"clip840\">\n",
              "    <rect x=\"0\" y=\"0\" width=\"2400\" height=\"1600\"/>\n",
              "  </clipPath>\n",
              "</defs>\n",
              "<path clip-path=\"url(#clip840)\" d=\"M0 1600 L2400 1600 L2400 0 L0 0  Z\" fill=\"#ffffff\" fill-rule=\"evenodd\" fill-opacity=\"1\"/>\n",
              "<defs>\n",
              "  <clipPath id=\"clip841\">\n",
              "    <rect x=\"480\" y=\"0\" width=\"1681\" height=\"1600\"/>\n",
              "  </clipPath>\n",
              "</defs>\n",
              "<path clip-path=\"url(#clip840)\" d=\"M203.964 1423.18 L2352.76 1423.18 L2352.76 47.2441 L203.964 47.2441  Z\" fill=\"#ffffff\" fill-rule=\"evenodd\" fill-opacity=\"1\"/>\n",
              "<defs>\n",
              "  <clipPath id=\"clip842\">\n",
              "    <rect x=\"203\" y=\"47\" width=\"2150\" height=\"1377\"/>\n",
              "  </clipPath>\n",
              "</defs>\n",
              "<polyline clip-path=\"url(#clip842)\" style=\"stroke:#000000; stroke-linecap:round; stroke-linejoin:round; stroke-width:2; stroke-opacity:0.1; fill:none\" points=\"467.495,1423.18 467.495,47.2441 \"/>\n",
              "<polyline clip-path=\"url(#clip842)\" style=\"stroke:#000000; stroke-linecap:round; stroke-linejoin:round; stroke-width:2; stroke-opacity:0.1; fill:none\" points=\"872.927,1423.18 872.927,47.2441 \"/>\n",
              "<polyline clip-path=\"url(#clip842)\" style=\"stroke:#000000; stroke-linecap:round; stroke-linejoin:round; stroke-width:2; stroke-opacity:0.1; fill:none\" points=\"1278.36,1423.18 1278.36,47.2441 \"/>\n",
              "<polyline clip-path=\"url(#clip842)\" style=\"stroke:#000000; stroke-linecap:round; stroke-linejoin:round; stroke-width:2; stroke-opacity:0.1; fill:none\" points=\"1683.79,1423.18 1683.79,47.2441 \"/>\n",
              "<polyline clip-path=\"url(#clip842)\" style=\"stroke:#000000; stroke-linecap:round; stroke-linejoin:round; stroke-width:2; stroke-opacity:0.1; fill:none\" points=\"2089.22,1423.18 2089.22,47.2441 \"/>\n",
              "<polyline clip-path=\"url(#clip840)\" style=\"stroke:#000000; stroke-linecap:round; stroke-linejoin:round; stroke-width:4; stroke-opacity:1; fill:none\" points=\"203.964,1423.18 2352.76,1423.18 \"/>\n",
              "<polyline clip-path=\"url(#clip840)\" style=\"stroke:#000000; stroke-linecap:round; stroke-linejoin:round; stroke-width:4; stroke-opacity:1; fill:none\" points=\"467.495,1423.18 467.495,1404.28 \"/>\n",
              "<polyline clip-path=\"url(#clip840)\" style=\"stroke:#000000; stroke-linecap:round; stroke-linejoin:round; stroke-width:4; stroke-opacity:1; fill:none\" points=\"872.927,1423.18 872.927,1404.28 \"/>\n",
              "<polyline clip-path=\"url(#clip840)\" style=\"stroke:#000000; stroke-linecap:round; stroke-linejoin:round; stroke-width:4; stroke-opacity:1; fill:none\" points=\"1278.36,1423.18 1278.36,1404.28 \"/>\n",
              "<polyline clip-path=\"url(#clip840)\" style=\"stroke:#000000; stroke-linecap:round; stroke-linejoin:round; stroke-width:4; stroke-opacity:1; fill:none\" points=\"1683.79,1423.18 1683.79,1404.28 \"/>\n",
              "<polyline clip-path=\"url(#clip840)\" style=\"stroke:#000000; stroke-linecap:round; stroke-linejoin:round; stroke-width:4; stroke-opacity:1; fill:none\" points=\"2089.22,1423.18 2089.22,1404.28 \"/>\n",
              "<path clip-path=\"url(#clip840)\" d=\"M462.148 1481.64 L478.467 1481.64 L478.467 1485.58 L456.523 1485.58 L456.523 1481.64 Q459.185 1478.89 463.768 1474.26 Q468.374 1469.61 469.555 1468.27 Q471.8 1465.74 472.68 1464.01 Q473.583 1462.25 473.583 1460.56 Q473.583 1457.8 471.638 1456.07 Q469.717 1454.33 466.615 1454.33 Q464.416 1454.33 461.962 1455.09 Q459.532 1455.86 456.754 1457.41 L456.754 1452.69 Q459.578 1451.55 462.032 1450.97 Q464.485 1450.39 466.522 1450.39 Q471.893 1450.39 475.087 1453.08 Q478.282 1455.77 478.282 1460.26 Q478.282 1462.39 477.472 1464.31 Q476.684 1466.2 474.578 1468.8 Q473.999 1469.47 470.897 1472.69 Q467.796 1475.88 462.148 1481.64 Z\" fill=\"#000000\" fill-rule=\"nonzero\" fill-opacity=\"1\" /><path clip-path=\"url(#clip840)\" d=\"M875.936 1455.09 L864.131 1473.54 L875.936 1473.54 L875.936 1455.09 M874.71 1451.02 L880.589 1451.02 L880.589 1473.54 L885.52 1473.54 L885.52 1477.43 L880.589 1477.43 L880.589 1485.58 L875.936 1485.58 L875.936 1477.43 L860.335 1477.43 L860.335 1472.92 L874.71 1451.02 Z\" fill=\"#000000\" fill-rule=\"nonzero\" fill-opacity=\"1\" /><path clip-path=\"url(#clip840)\" d=\"M1278.76 1466.44 Q1275.62 1466.44 1273.76 1468.59 Q1271.94 1470.74 1271.94 1474.49 Q1271.94 1478.22 1273.76 1480.39 Q1275.62 1482.55 1278.76 1482.55 Q1281.91 1482.55 1283.74 1480.39 Q1285.59 1478.22 1285.59 1474.49 Q1285.59 1470.74 1283.74 1468.59 Q1281.91 1466.44 1278.76 1466.44 M1288.05 1451.78 L1288.05 1456.04 Q1286.29 1455.21 1284.48 1454.77 Q1282.7 1454.33 1280.94 1454.33 Q1276.31 1454.33 1273.86 1457.45 Q1271.43 1460.58 1271.08 1466.9 Q1272.45 1464.89 1274.51 1463.82 Q1276.57 1462.73 1279.04 1462.73 Q1284.25 1462.73 1287.26 1465.9 Q1290.29 1469.05 1290.29 1474.49 Q1290.29 1479.82 1287.14 1483.03 Q1284 1486.25 1278.76 1486.25 Q1272.77 1486.25 1269.6 1481.67 Q1266.43 1477.06 1266.43 1468.33 Q1266.43 1460.14 1270.32 1455.28 Q1274.2 1450.39 1280.76 1450.39 Q1282.51 1450.39 1284.3 1450.74 Q1286.1 1451.09 1288.05 1451.78 Z\" fill=\"#000000\" fill-rule=\"nonzero\" fill-opacity=\"1\" /><path clip-path=\"url(#clip840)\" d=\"M1683.79 1469.17 Q1680.46 1469.17 1678.54 1470.95 Q1676.64 1472.73 1676.64 1475.86 Q1676.64 1478.98 1678.54 1480.77 Q1680.46 1482.55 1683.79 1482.55 Q1687.13 1482.55 1689.05 1480.77 Q1690.97 1478.96 1690.97 1475.86 Q1690.97 1472.73 1689.05 1470.95 Q1687.15 1469.17 1683.79 1469.17 M1679.12 1467.18 Q1676.11 1466.44 1674.42 1464.38 Q1672.75 1462.32 1672.75 1459.35 Q1672.75 1455.21 1675.69 1452.8 Q1678.65 1450.39 1683.79 1450.39 Q1688.95 1450.39 1691.89 1452.8 Q1694.83 1455.21 1694.83 1459.35 Q1694.83 1462.32 1693.14 1464.38 Q1691.48 1466.44 1688.49 1467.18 Q1691.87 1467.96 1693.75 1470.26 Q1695.64 1472.55 1695.64 1475.86 Q1695.64 1480.88 1692.57 1483.57 Q1689.51 1486.25 1683.79 1486.25 Q1678.07 1486.25 1675 1483.57 Q1671.94 1480.88 1671.94 1475.86 Q1671.94 1472.55 1673.84 1470.26 Q1675.74 1467.96 1679.12 1467.18 M1677.4 1459.79 Q1677.4 1462.48 1679.07 1463.98 Q1680.76 1465.49 1683.79 1465.49 Q1686.8 1465.49 1688.49 1463.98 Q1690.2 1462.48 1690.2 1459.79 Q1690.2 1457.11 1688.49 1455.6 Q1686.8 1454.1 1683.79 1454.1 Q1680.76 1454.1 1679.07 1455.6 Q1677.4 1457.11 1677.4 1459.79 Z\" fill=\"#000000\" fill-rule=\"nonzero\" fill-opacity=\"1\" /><path clip-path=\"url(#clip840)\" d=\"M2063.91 1481.64 L2071.55 1481.64 L2071.55 1455.28 L2063.24 1456.95 L2063.24 1452.69 L2071.5 1451.02 L2076.18 1451.02 L2076.18 1481.64 L2083.82 1481.64 L2083.82 1485.58 L2063.91 1485.58 L2063.91 1481.64 Z\" fill=\"#000000\" fill-rule=\"nonzero\" fill-opacity=\"1\" /><path clip-path=\"url(#clip840)\" d=\"M2103.26 1454.1 Q2099.65 1454.1 2097.82 1457.66 Q2096.02 1461.2 2096.02 1468.33 Q2096.02 1475.44 2097.82 1479.01 Q2099.65 1482.55 2103.26 1482.55 Q2106.9 1482.55 2108.7 1479.01 Q2110.53 1475.44 2110.53 1468.33 Q2110.53 1461.2 2108.7 1457.66 Q2106.9 1454.1 2103.26 1454.1 M2103.26 1450.39 Q2109.07 1450.39 2112.13 1455 Q2115.21 1459.58 2115.21 1468.33 Q2115.21 1477.06 2112.13 1481.67 Q2109.07 1486.25 2103.26 1486.25 Q2097.45 1486.25 2094.38 1481.67 Q2091.32 1477.06 2091.32 1468.33 Q2091.32 1459.58 2094.38 1455 Q2097.45 1450.39 2103.26 1450.39 Z\" fill=\"#000000\" fill-rule=\"nonzero\" fill-opacity=\"1\" /><path clip-path=\"url(#clip840)\" d=\"M1149.36 1532.4 L1155.22 1532.4 L1155.22 1568.04 L1149.36 1568.04 L1149.36 1532.4 M1149.36 1518.52 L1155.22 1518.52 L1155.22 1525.93 L1149.36 1525.93 L1149.36 1518.52 Z\" fill=\"#000000\" fill-rule=\"nonzero\" fill-opacity=\"1\" /><path clip-path=\"url(#clip840)\" d=\"M1197.1 1546.53 L1197.1 1568.04 L1191.25 1568.04 L1191.25 1546.72 Q1191.25 1541.66 1189.27 1539.14 Q1187.3 1536.63 1183.35 1536.63 Q1178.61 1536.63 1175.87 1539.65 Q1173.13 1542.68 1173.13 1547.9 L1173.13 1568.04 L1167.25 1568.04 L1167.25 1532.4 L1173.13 1532.4 L1173.13 1537.93 Q1175.24 1534.72 1178.07 1533.13 Q1180.93 1531.54 1184.66 1531.54 Q1190.8 1531.54 1193.95 1535.36 Q1197.1 1539.14 1197.1 1546.53 Z\" fill=\"#000000\" fill-rule=\"nonzero\" fill-opacity=\"1\" /><path clip-path=\"url(#clip840)\" d=\"M1214.58 1522.27 L1214.58 1532.4 L1226.64 1532.4 L1226.64 1536.95 L1214.58 1536.95 L1214.58 1556.3 Q1214.58 1560.66 1215.75 1561.9 Q1216.96 1563.14 1220.62 1563.14 L1226.64 1563.14 L1226.64 1568.04 L1220.62 1568.04 Q1213.84 1568.04 1211.27 1565.53 Q1208.69 1562.98 1208.69 1556.3 L1208.69 1536.95 L1204.39 1536.95 L1204.39 1532.4 L1208.69 1532.4 L1208.69 1522.27 L1214.58 1522.27 Z\" fill=\"#000000\" fill-rule=\"nonzero\" fill-opacity=\"1\" /><path clip-path=\"url(#clip840)\" d=\"M1264.83 1548.76 L1264.83 1551.62 L1237.91 1551.62 Q1238.29 1557.67 1241.53 1560.85 Q1244.81 1564 1250.64 1564 Q1254.01 1564 1257.16 1563.17 Q1260.34 1562.35 1263.46 1560.69 L1263.46 1566.23 Q1260.31 1567.57 1257 1568.27 Q1253.69 1568.97 1250.29 1568.97 Q1241.76 1568.97 1236.76 1564 Q1231.79 1559.04 1231.79 1550.57 Q1231.79 1541.82 1236.51 1536.69 Q1241.25 1531.54 1249.27 1531.54 Q1256.46 1531.54 1260.63 1536.18 Q1264.83 1540.8 1264.83 1548.76 M1258.98 1547.04 Q1258.91 1542.23 1256.27 1539.37 Q1253.66 1536.5 1249.33 1536.5 Q1244.43 1536.5 1241.47 1539.27 Q1238.54 1542.04 1238.1 1547.07 L1258.98 1547.04 Z\" fill=\"#000000\" fill-rule=\"nonzero\" fill-opacity=\"1\" /><path clip-path=\"url(#clip840)\" d=\"M1297.9 1549.81 Q1297.9 1543.44 1295.26 1539.94 Q1292.65 1536.44 1287.91 1536.44 Q1283.2 1536.44 1280.56 1539.94 Q1277.95 1543.44 1277.95 1549.81 Q1277.95 1556.14 1280.56 1559.64 Q1283.2 1563.14 1287.91 1563.14 Q1292.65 1563.14 1295.26 1559.64 Q1297.9 1556.14 1297.9 1549.81 M1303.76 1563.62 Q1303.76 1572.72 1299.72 1577.15 Q1295.67 1581.6 1287.34 1581.6 Q1284.25 1581.6 1281.51 1581.13 Q1278.77 1580.68 1276.2 1579.72 L1276.2 1574.03 Q1278.77 1575.43 1281.29 1576.1 Q1283.8 1576.76 1286.41 1576.76 Q1292.17 1576.76 1295.04 1573.74 Q1297.9 1570.75 1297.9 1564.67 L1297.9 1561.77 Q1296.09 1564.92 1293.26 1566.48 Q1290.42 1568.04 1286.48 1568.04 Q1279.92 1568.04 1275.91 1563.05 Q1271.9 1558.05 1271.9 1549.81 Q1271.9 1541.53 1275.91 1536.53 Q1279.92 1531.54 1286.48 1531.54 Q1290.42 1531.54 1293.26 1533.1 Q1296.09 1534.66 1297.9 1537.81 L1297.9 1532.4 L1303.76 1532.4 L1303.76 1563.62 Z\" fill=\"#000000\" fill-rule=\"nonzero\" fill-opacity=\"1\" /><path clip-path=\"url(#clip840)\" d=\"M1346.31 1548.76 L1346.31 1551.62 L1319.39 1551.62 Q1319.77 1557.67 1323.02 1560.85 Q1326.29 1564 1332.12 1564 Q1335.49 1564 1338.64 1563.17 Q1341.83 1562.35 1344.95 1560.69 L1344.95 1566.23 Q1341.79 1567.57 1338.48 1568.27 Q1335.17 1568.97 1331.77 1568.97 Q1323.24 1568.97 1318.24 1564 Q1313.28 1559.04 1313.28 1550.57 Q1313.28 1541.82 1317.99 1536.69 Q1322.73 1531.54 1330.75 1531.54 Q1337.94 1531.54 1342.11 1536.18 Q1346.31 1540.8 1346.31 1548.76 M1340.46 1547.04 Q1340.39 1542.23 1337.75 1539.37 Q1335.14 1536.5 1330.81 1536.5 Q1325.91 1536.5 1322.95 1539.27 Q1320.02 1542.04 1319.58 1547.07 L1340.46 1547.04 Z\" fill=\"#000000\" fill-rule=\"nonzero\" fill-opacity=\"1\" /><path clip-path=\"url(#clip840)\" d=\"M1376.58 1537.87 Q1375.6 1537.3 1374.42 1537.04 Q1373.27 1536.76 1371.87 1536.76 Q1366.91 1536.76 1364.23 1540 Q1361.59 1543.22 1361.59 1549.27 L1361.59 1568.04 L1355.7 1568.04 L1355.7 1532.4 L1361.59 1532.4 L1361.59 1537.93 Q1363.44 1534.69 1366.4 1533.13 Q1369.36 1531.54 1373.59 1531.54 Q1374.2 1531.54 1374.93 1531.63 Q1375.66 1531.7 1376.55 1531.85 L1376.58 1537.87 Z\" fill=\"#000000\" fill-rule=\"nonzero\" fill-opacity=\"1\" /><path clip-path=\"url(#clip840)\" d=\"M1405.45 1533.45 L1405.45 1538.98 Q1402.97 1537.71 1400.29 1537.07 Q1397.62 1536.44 1394.76 1536.44 Q1390.4 1536.44 1388.2 1537.77 Q1386.04 1539.11 1386.04 1541.79 Q1386.04 1543.82 1387.6 1545 Q1389.15 1546.15 1393.87 1547.2 L1395.87 1547.64 Q1402.11 1548.98 1404.72 1551.43 Q1407.36 1553.85 1407.36 1558.21 Q1407.36 1563.17 1403.41 1566.07 Q1399.5 1568.97 1392.62 1568.97 Q1389.76 1568.97 1386.64 1568.39 Q1383.55 1567.85 1380.12 1566.74 L1380.12 1560.69 Q1383.36 1562.38 1386.51 1563.24 Q1389.66 1564.07 1392.75 1564.07 Q1396.89 1564.07 1399.12 1562.66 Q1401.35 1561.23 1401.35 1558.65 Q1401.35 1556.27 1399.72 1554.99 Q1398.13 1553.72 1392.69 1552.54 L1390.65 1552.07 Q1385.21 1550.92 1382.79 1548.56 Q1380.37 1546.18 1380.37 1542.04 Q1380.37 1537.01 1383.93 1534.27 Q1387.5 1531.54 1394.06 1531.54 Q1397.3 1531.54 1400.17 1532.01 Q1403.03 1532.49 1405.45 1533.45 Z\" fill=\"#000000\" fill-rule=\"nonzero\" fill-opacity=\"1\" /><polyline clip-path=\"url(#clip842)\" style=\"stroke:#000000; stroke-linecap:round; stroke-linejoin:round; stroke-width:2; stroke-opacity:0.1; fill:none\" points=\"203.964,1384.24 2352.76,1384.24 \"/>\n",
              "<polyline clip-path=\"url(#clip842)\" style=\"stroke:#000000; stroke-linecap:round; stroke-linejoin:round; stroke-width:2; stroke-opacity:0.1; fill:none\" points=\"203.964,1124.63 2352.76,1124.63 \"/>\n",
              "<polyline clip-path=\"url(#clip842)\" style=\"stroke:#000000; stroke-linecap:round; stroke-linejoin:round; stroke-width:2; stroke-opacity:0.1; fill:none\" points=\"203.964,865.017 2352.76,865.017 \"/>\n",
              "<polyline clip-path=\"url(#clip842)\" style=\"stroke:#000000; stroke-linecap:round; stroke-linejoin:round; stroke-width:2; stroke-opacity:0.1; fill:none\" points=\"203.964,605.407 2352.76,605.407 \"/>\n",
              "<polyline clip-path=\"url(#clip842)\" style=\"stroke:#000000; stroke-linecap:round; stroke-linejoin:round; stroke-width:2; stroke-opacity:0.1; fill:none\" points=\"203.964,345.796 2352.76,345.796 \"/>\n",
              "<polyline clip-path=\"url(#clip842)\" style=\"stroke:#000000; stroke-linecap:round; stroke-linejoin:round; stroke-width:2; stroke-opacity:0.1; fill:none\" points=\"203.964,86.1857 2352.76,86.1857 \"/>\n",
              "<polyline clip-path=\"url(#clip840)\" style=\"stroke:#000000; stroke-linecap:round; stroke-linejoin:round; stroke-width:4; stroke-opacity:1; fill:none\" points=\"203.964,1423.18 203.964,47.2441 \"/>\n",
              "<polyline clip-path=\"url(#clip840)\" style=\"stroke:#000000; stroke-linecap:round; stroke-linejoin:round; stroke-width:4; stroke-opacity:1; fill:none\" points=\"203.964,1384.24 222.861,1384.24 \"/>\n",
              "<polyline clip-path=\"url(#clip840)\" style=\"stroke:#000000; stroke-linecap:round; stroke-linejoin:round; stroke-width:4; stroke-opacity:1; fill:none\" points=\"203.964,1124.63 222.861,1124.63 \"/>\n",
              "<polyline clip-path=\"url(#clip840)\" style=\"stroke:#000000; stroke-linecap:round; stroke-linejoin:round; stroke-width:4; stroke-opacity:1; fill:none\" points=\"203.964,865.017 222.861,865.017 \"/>\n",
              "<polyline clip-path=\"url(#clip840)\" style=\"stroke:#000000; stroke-linecap:round; stroke-linejoin:round; stroke-width:4; stroke-opacity:1; fill:none\" points=\"203.964,605.407 222.861,605.407 \"/>\n",
              "<polyline clip-path=\"url(#clip840)\" style=\"stroke:#000000; stroke-linecap:round; stroke-linejoin:round; stroke-width:4; stroke-opacity:1; fill:none\" points=\"203.964,345.796 222.861,345.796 \"/>\n",
              "<polyline clip-path=\"url(#clip840)\" style=\"stroke:#000000; stroke-linecap:round; stroke-linejoin:round; stroke-width:4; stroke-opacity:1; fill:none\" points=\"203.964,86.1857 222.861,86.1857 \"/>\n",
              "<path clip-path=\"url(#clip840)\" d=\"M156.019 1370.04 Q152.408 1370.04 150.579 1373.6 Q148.774 1377.14 148.774 1384.27 Q148.774 1391.38 150.579 1394.94 Q152.408 1398.49 156.019 1398.49 Q159.653 1398.49 161.459 1394.94 Q163.288 1391.38 163.288 1384.27 Q163.288 1377.14 161.459 1373.6 Q159.653 1370.04 156.019 1370.04 M156.019 1366.33 Q161.829 1366.33 164.885 1370.94 Q167.964 1375.52 167.964 1384.27 Q167.964 1393 164.885 1397.61 Q161.829 1402.19 156.019 1402.19 Q150.209 1402.19 147.13 1397.61 Q144.075 1393 144.075 1384.27 Q144.075 1375.52 147.13 1370.94 Q150.209 1366.33 156.019 1366.33 Z\" fill=\"#000000\" fill-rule=\"nonzero\" fill-opacity=\"1\" /><path clip-path=\"url(#clip840)\" d=\"M147.061 1107.35 L165.417 1107.35 L165.417 1111.28 L151.343 1111.28 L151.343 1119.76 Q152.362 1119.41 153.38 1119.25 Q154.399 1119.06 155.417 1119.06 Q161.204 1119.06 164.584 1122.23 Q167.964 1125.4 167.964 1130.82 Q167.964 1136.4 164.491 1139.5 Q161.019 1142.58 154.7 1142.58 Q152.524 1142.58 150.255 1142.21 Q148.01 1141.84 145.603 1141.1 L145.603 1136.4 Q147.686 1137.53 149.908 1138.09 Q152.13 1138.64 154.607 1138.64 Q158.612 1138.64 160.95 1136.54 Q163.288 1134.43 163.288 1130.82 Q163.288 1127.21 160.95 1125.1 Q158.612 1123 154.607 1123 Q152.732 1123 150.857 1123.41 Q149.005 1123.83 147.061 1124.71 L147.061 1107.35 Z\" fill=\"#000000\" fill-rule=\"nonzero\" fill-opacity=\"1\" /><path clip-path=\"url(#clip840)\" d=\"M116.668 878.362 L124.306 878.362 L124.306 851.996 L115.996 853.663 L115.996 849.404 L124.26 847.737 L128.936 847.737 L128.936 878.362 L136.575 878.362 L136.575 882.297 L116.668 882.297 L116.668 878.362 Z\" fill=\"#000000\" fill-rule=\"nonzero\" fill-opacity=\"1\" /><path clip-path=\"url(#clip840)\" d=\"M156.019 850.816 Q152.408 850.816 150.579 854.381 Q148.774 857.922 148.774 865.052 Q148.774 872.158 150.579 875.723 Q152.408 879.265 156.019 879.265 Q159.653 879.265 161.459 875.723 Q163.288 872.158 163.288 865.052 Q163.288 857.922 161.459 854.381 Q159.653 850.816 156.019 850.816 M156.019 847.112 Q161.829 847.112 164.885 851.719 Q167.964 856.302 167.964 865.052 Q167.964 873.779 164.885 878.385 Q161.829 882.969 156.019 882.969 Q150.209 882.969 147.13 878.385 Q144.075 873.779 144.075 865.052 Q144.075 856.302 147.13 851.719 Q150.209 847.112 156.019 847.112 Z\" fill=\"#000000\" fill-rule=\"nonzero\" fill-opacity=\"1\" /><path clip-path=\"url(#clip840)\" d=\"M117.663 618.752 L125.302 618.752 L125.302 592.386 L116.992 594.053 L116.992 589.793 L125.255 588.127 L129.931 588.127 L129.931 618.752 L137.57 618.752 L137.57 622.687 L117.663 622.687 L117.663 618.752 Z\" fill=\"#000000\" fill-rule=\"nonzero\" fill-opacity=\"1\" /><path clip-path=\"url(#clip840)\" d=\"M147.061 588.127 L165.417 588.127 L165.417 592.062 L151.343 592.062 L151.343 600.534 Q152.362 600.187 153.38 600.025 Q154.399 599.84 155.417 599.84 Q161.204 599.84 164.584 603.011 Q167.964 606.182 167.964 611.599 Q167.964 617.177 164.491 620.279 Q161.019 623.358 154.7 623.358 Q152.524 623.358 150.255 622.988 Q148.01 622.617 145.603 621.877 L145.603 617.177 Q147.686 618.312 149.908 618.867 Q152.13 619.423 154.607 619.423 Q158.612 619.423 160.95 617.316 Q163.288 615.21 163.288 611.599 Q163.288 607.988 160.95 605.881 Q158.612 603.775 154.607 603.775 Q152.732 603.775 150.857 604.191 Q149.005 604.608 147.061 605.488 L147.061 588.127 Z\" fill=\"#000000\" fill-rule=\"nonzero\" fill-opacity=\"1\" /><path clip-path=\"url(#clip840)\" d=\"M119.885 359.141 L136.204 359.141 L136.204 363.076 L114.26 363.076 L114.26 359.141 Q116.922 356.386 121.505 351.757 Q126.112 347.104 127.292 345.761 Q129.538 343.238 130.417 341.502 Q131.32 339.743 131.32 338.053 Q131.32 335.299 129.376 333.562 Q127.455 331.826 124.353 331.826 Q122.154 331.826 119.7 332.59 Q117.269 333.354 114.492 334.905 L114.492 330.183 Q117.316 329.049 119.769 328.47 Q122.223 327.891 124.26 327.891 Q129.63 327.891 132.825 330.576 Q136.019 333.262 136.019 337.752 Q136.019 339.882 135.209 341.803 Q134.422 343.701 132.316 346.294 Q131.737 346.965 128.635 350.183 Q125.533 353.377 119.885 359.141 Z\" fill=\"#000000\" fill-rule=\"nonzero\" fill-opacity=\"1\" /><path clip-path=\"url(#clip840)\" d=\"M156.019 331.595 Q152.408 331.595 150.579 335.16 Q148.774 338.701 148.774 345.831 Q148.774 352.937 150.579 356.502 Q152.408 360.044 156.019 360.044 Q159.653 360.044 161.459 356.502 Q163.288 352.937 163.288 345.831 Q163.288 338.701 161.459 335.16 Q159.653 331.595 156.019 331.595 M156.019 327.891 Q161.829 327.891 164.885 332.498 Q167.964 337.081 167.964 345.831 Q167.964 354.558 164.885 359.164 Q161.829 363.747 156.019 363.747 Q150.209 363.747 147.13 359.164 Q144.075 354.558 144.075 345.831 Q144.075 337.081 147.13 332.498 Q150.209 327.891 156.019 327.891 Z\" fill=\"#000000\" fill-rule=\"nonzero\" fill-opacity=\"1\" /><path clip-path=\"url(#clip840)\" d=\"M120.88 99.5305 L137.2 99.5305 L137.2 103.466 L115.256 103.466 L115.256 99.5305 Q117.918 96.7759 122.501 92.1463 Q127.107 87.4935 128.288 86.151 Q130.533 83.6278 131.413 81.8917 Q132.316 80.1325 132.316 78.4427 Q132.316 75.688 130.371 73.9519 Q128.45 72.2158 125.348 72.2158 Q123.149 72.2158 120.695 72.9797 Q118.265 73.7436 115.487 75.2945 L115.487 70.5723 Q118.311 69.4381 120.765 68.8594 Q123.218 68.2807 125.255 68.2807 Q130.626 68.2807 133.82 70.9658 Q137.015 73.651 137.015 78.1417 Q137.015 80.2714 136.204 82.1926 Q135.417 84.0908 133.311 86.6834 Q132.732 87.3546 129.63 90.5722 Q126.529 93.7667 120.88 99.5305 Z\" fill=\"#000000\" fill-rule=\"nonzero\" fill-opacity=\"1\" /><path clip-path=\"url(#clip840)\" d=\"M147.061 68.9057 L165.417 68.9057 L165.417 72.8408 L151.343 72.8408 L151.343 81.313 Q152.362 80.9658 153.38 80.8038 Q154.399 80.6186 155.417 80.6186 Q161.204 80.6186 164.584 83.7899 Q167.964 86.9611 167.964 92.3778 Q167.964 97.9564 164.491 101.058 Q161.019 104.137 154.7 104.137 Q152.524 104.137 150.255 103.767 Q148.01 103.396 145.603 102.655 L145.603 97.9564 Q147.686 99.0907 149.908 99.6462 Q152.13 100.202 154.607 100.202 Q158.612 100.202 160.95 98.0953 Q163.288 95.9889 163.288 92.3778 Q163.288 88.7667 160.95 86.6602 Q158.612 84.5537 154.607 84.5537 Q152.732 84.5537 150.857 84.9704 Q149.005 85.3871 147.061 86.2667 L147.061 68.9057 Z\" fill=\"#000000\" fill-rule=\"nonzero\" fill-opacity=\"1\" /><path clip-path=\"url(#clip840)\" d=\"M29.4065 1020.33 L34.9447 1020.33 Q33.6716 1022.81 33.035 1025.49 Q32.3984 1028.16 32.3984 1031.03 Q32.3984 1035.39 33.7352 1037.58 Q35.072 1039.75 37.7456 1039.75 Q39.7826 1039.75 40.9603 1038.19 Q42.1061 1036.63 43.1565 1031.92 L43.6021 1029.91 Q44.9389 1023.67 47.3897 1021.06 Q49.8086 1018.42 54.1691 1018.42 Q59.1344 1018.42 62.0308 1022.37 Q64.9272 1026.28 64.9272 1033.16 Q64.9272 1036.02 64.3543 1039.14 Q63.8132 1042.23 62.6992 1045.67 L56.6518 1045.67 Q58.3387 1042.42 59.198 1039.27 Q60.0256 1036.12 60.0256 1033.03 Q60.0256 1028.89 58.6251 1026.67 Q57.1929 1024.44 54.6147 1024.44 Q52.2276 1024.44 50.9545 1026.06 Q49.6813 1027.65 48.5037 1033.1 L48.0262 1035.13 Q46.8804 1040.57 44.5251 1042.99 Q42.138 1045.41 38.0002 1045.41 Q32.9713 1045.41 30.2341 1041.85 Q27.4968 1038.28 27.4968 1031.73 Q27.4968 1028.48 27.9743 1025.62 Q28.4517 1022.75 29.4065 1020.33 Z\" fill=\"#000000\" fill-rule=\"nonzero\" fill-opacity=\"1\" /><path clip-path=\"url(#clip840)\" d=\"M46.212 1005.6 Q52.6732 1005.6 56.3653 1002.95 Q60.0256 1000.28 60.0256 995.633 Q60.0256 990.986 56.3653 988.312 Q52.6732 985.639 46.212 985.639 Q39.7508 985.639 36.0905 988.312 Q32.3984 990.986 32.3984 995.633 Q32.3984 1000.28 36.0905 1002.95 Q39.7508 1005.6 46.212 1005.6 M58.657 985.639 Q61.8398 987.485 63.3994 990.318 Q64.9272 993.119 64.9272 997.065 Q64.9272 1003.53 59.771 1007.6 Q54.6147 1011.64 46.212 1011.64 Q37.8093 1011.64 32.6531 1007.6 Q27.4968 1003.53 27.4968 997.065 Q27.4968 993.119 29.0564 990.318 Q30.5842 987.485 33.7671 985.639 L28.3562 985.639 L28.3562 979.782 L77.5631 979.782 L77.5631 985.639 L58.657 985.639 Z\" fill=\"#000000\" fill-rule=\"nonzero\" fill-opacity=\"1\" /><path clip-path=\"url(#clip840)\" d=\"M49.9359 968.324 L28.3562 968.324 L28.3562 962.468 L49.7131 962.468 Q54.7739 962.468 57.3202 960.494 Q59.8346 958.521 59.8346 954.574 Q59.8346 949.832 56.8109 947.095 Q53.7872 944.325 48.5673 944.325 L28.3562 944.325 L28.3562 938.469 L64.0042 938.469 L64.0042 944.325 L58.5296 944.325 Q61.7762 946.458 63.3676 949.291 Q64.9272 952.092 64.9272 955.816 Q64.9272 961.958 61.1078 965.141 Q57.2883 968.324 49.9359 968.324 M27.4968 953.588 L27.4968 953.588 Z\" fill=\"#000000\" fill-rule=\"nonzero\" fill-opacity=\"1\" /><path clip-path=\"url(#clip840)\" d=\"M46.0847 910.205 Q46.0847 917.303 47.7079 920.04 Q49.3312 922.778 53.2461 922.778 Q56.3653 922.778 58.2114 920.74 Q60.0256 918.672 60.0256 915.139 Q60.0256 910.269 56.5881 907.341 Q53.1188 904.381 47.3897 904.381 L46.0847 904.381 L46.0847 910.205 M43.6657 898.524 L64.0042 898.524 L64.0042 904.381 L58.5933 904.381 Q61.8398 906.386 63.3994 909.378 Q64.9272 912.37 64.9272 916.698 Q64.9272 922.173 61.8716 925.419 Q58.7843 928.634 53.6281 928.634 Q47.6125 928.634 44.5569 924.624 Q41.5014 920.581 41.5014 912.592 L41.5014 904.381 L40.9285 904.381 Q36.8862 904.381 34.6901 907.054 Q32.4621 909.696 32.4621 914.502 Q32.4621 917.558 33.1941 920.454 Q33.9262 923.35 35.3903 926.024 L29.9795 926.024 Q28.7381 922.809 28.1334 919.786 Q27.4968 916.762 27.4968 913.897 Q27.4968 906.163 31.5072 902.344 Q35.5176 898.524 43.6657 898.524 Z\" fill=\"#000000\" fill-rule=\"nonzero\" fill-opacity=\"1\" /><path clip-path=\"url(#clip840)\" d=\"M33.8307 865.804 Q33.2578 866.791 33.0032 867.969 Q32.7167 869.115 32.7167 870.515 Q32.7167 875.48 35.9632 878.154 Q39.1779 880.796 45.2253 880.796 L64.0042 880.796 L64.0042 886.684 L28.3562 886.684 L28.3562 880.796 L33.8944 880.796 Q30.6479 878.95 29.0883 875.99 Q27.4968 873.03 27.4968 868.796 Q27.4968 868.192 27.5923 867.46 Q27.656 866.727 27.8151 865.836 L33.8307 865.804 Z\" fill=\"#000000\" fill-rule=\"nonzero\" fill-opacity=\"1\" /><path clip-path=\"url(#clip840)\" d=\"M44.7161 830.602 L47.5806 830.602 L47.5806 857.529 Q53.6281 857.147 56.8109 853.901 Q59.9619 850.622 59.9619 844.798 Q59.9619 841.424 59.1344 838.273 Q58.3069 835.09 56.6518 831.971 L62.1899 831.971 Q63.5267 835.122 64.227 838.432 Q64.9272 841.742 64.9272 845.148 Q64.9272 853.678 59.9619 858.675 Q54.9967 863.64 46.5303 863.64 Q37.7774 863.64 32.6531 858.929 Q27.4968 854.187 27.4968 846.166 Q27.4968 838.973 32.1438 834.803 Q36.7589 830.602 44.7161 830.602 M42.9973 836.459 Q38.1912 836.522 35.3266 839.164 Q32.4621 841.774 32.4621 846.103 Q32.4621 851.004 35.2312 853.964 Q38.0002 856.892 43.0292 857.338 L42.9973 836.459 Z\" fill=\"#000000\" fill-rule=\"nonzero\" fill-opacity=\"1\" /><path clip-path=\"url(#clip840)\" d=\"M29.4065 798.264 L34.9447 798.264 Q33.6716 800.747 33.035 803.421 Q32.3984 806.094 32.3984 808.959 Q32.3984 813.319 33.7352 815.515 Q35.072 817.68 37.7456 817.68 Q39.7826 817.68 40.9603 816.12 Q42.1061 814.561 43.1565 809.85 L43.6021 807.845 Q44.9389 801.606 47.3897 798.996 Q49.8086 796.355 54.1691 796.355 Q59.1344 796.355 62.0308 800.301 Q64.9272 804.216 64.9272 811.091 Q64.9272 813.956 64.3543 817.075 Q63.8132 820.162 62.6992 823.6 L56.6518 823.6 Q58.3387 820.353 59.198 817.202 Q60.0256 814.051 60.0256 810.964 Q60.0256 806.826 58.6251 804.598 Q57.1929 802.37 54.6147 802.37 Q52.2276 802.37 50.9545 803.993 Q49.6813 805.585 48.5037 811.028 L48.0262 813.065 Q46.8804 818.507 44.5251 820.926 Q42.138 823.345 38.0002 823.345 Q32.9713 823.345 30.2341 819.78 Q27.4968 816.216 27.4968 809.659 Q27.4968 806.412 27.9743 803.548 Q28.4517 800.683 29.4065 798.264 Z\" fill=\"#000000\" fill-rule=\"nonzero\" fill-opacity=\"1\" /><path clip-path=\"url(#clip840)\" d=\"M32.4621 752.495 Q32.4621 757.205 36.1542 759.943 Q39.8145 762.68 46.212 762.68 Q52.6095 762.68 56.3017 759.975 Q59.9619 757.237 59.9619 752.495 Q59.9619 747.816 56.2698 745.079 Q52.5777 742.342 46.212 742.342 Q39.8781 742.342 36.186 745.079 Q32.4621 747.816 32.4621 752.495 M27.4968 752.495 Q27.4968 744.856 32.4621 740.496 Q37.4273 736.135 46.212 736.135 Q54.9649 736.135 59.9619 740.496 Q64.9272 744.856 64.9272 752.495 Q64.9272 760.166 59.9619 764.526 Q54.9649 768.855 46.212 768.855 Q37.4273 768.855 32.4621 764.526 Q27.4968 760.166 27.4968 752.495 Z\" fill=\"#000000\" fill-rule=\"nonzero\" fill-opacity=\"1\" /><path clip-path=\"url(#clip840)\" d=\"M14.479 708.381 L19.3487 708.381 L19.3487 713.982 Q19.3487 717.133 20.6219 718.375 Q21.895 719.584 25.2052 719.584 L28.3562 719.584 L28.3562 709.94 L32.9077 709.94 L32.9077 719.584 L64.0042 719.584 L64.0042 725.472 L32.9077 725.472 L32.9077 731.074 L28.3562 731.074 L28.3562 725.472 L25.8736 725.472 Q19.9216 725.472 17.2162 722.703 Q14.479 719.934 14.479 713.919 L14.479 708.381 Z\" fill=\"#000000\" fill-rule=\"nonzero\" fill-opacity=\"1\" /><path clip-path=\"url(#clip840)\" d=\"M28.3562 682.759 L28.3562 676.902 L64.0042 676.902 L64.0042 682.759 L28.3562 682.759 M14.479 682.759 L14.479 676.902 L21.895 676.902 L21.895 682.759 L14.479 682.759 Z\" fill=\"#000000\" fill-rule=\"nonzero\" fill-opacity=\"1\" /><path clip-path=\"url(#clip840)\" d=\"M42.4881 635.016 L64.0042 635.016 L64.0042 640.872 L42.679 640.872 Q37.6183 640.872 35.1038 642.846 Q32.5894 644.819 32.5894 648.766 Q32.5894 653.508 35.6131 656.245 Q38.6368 658.983 43.8567 658.983 L64.0042 658.983 L64.0042 664.871 L28.3562 664.871 L28.3562 658.983 L33.8944 658.983 Q30.6797 656.882 29.0883 654.049 Q27.4968 651.185 27.4968 647.461 Q27.4968 641.318 31.3163 638.167 Q35.1038 635.016 42.4881 635.016 Z\" fill=\"#000000\" fill-rule=\"nonzero\" fill-opacity=\"1\" /><path clip-path=\"url(#clip840)\" d=\"M18.2347 617.542 L28.3562 617.542 L28.3562 605.479 L32.9077 605.479 L32.9077 617.542 L52.2594 617.542 Q56.6199 617.542 57.8613 616.364 Q59.1026 615.155 59.1026 611.494 L59.1026 605.479 L64.0042 605.479 L64.0042 611.494 Q64.0042 618.274 61.4897 620.852 Q58.9434 623.43 52.2594 623.43 L32.9077 623.43 L32.9077 627.727 L28.3562 627.727 L28.3562 623.43 L18.2347 623.43 L18.2347 617.542 Z\" fill=\"#000000\" fill-rule=\"nonzero\" fill-opacity=\"1\" /><path clip-path=\"url(#clip840)\" d=\"M44.7161 567.285 L47.5806 567.285 L47.5806 594.212 Q53.6281 593.83 56.8109 590.583 Q59.9619 587.305 59.9619 581.48 Q59.9619 578.106 59.1344 574.955 Q58.3069 571.772 56.6518 568.653 L62.1899 568.653 Q63.5267 571.804 64.227 575.114 Q64.9272 578.425 64.9272 581.83 Q64.9272 590.36 59.9619 595.357 Q54.9967 600.323 46.5303 600.323 Q37.7774 600.323 32.6531 595.612 Q27.4968 590.87 27.4968 582.849 Q27.4968 575.656 32.1438 571.486 Q36.7589 567.285 44.7161 567.285 M42.9973 573.141 Q38.1912 573.205 35.3266 575.847 Q32.4621 578.456 32.4621 582.785 Q32.4621 587.687 35.2312 590.647 Q38.0002 593.575 43.0292 594.021 L42.9973 573.141 Z\" fill=\"#000000\" fill-rule=\"nonzero\" fill-opacity=\"1\" /><path clip-path=\"url(#clip840)\" d=\"M45.7664 534.215 Q39.4007 534.215 35.8996 536.857 Q32.3984 539.466 32.3984 544.209 Q32.3984 548.92 35.8996 551.561 Q39.4007 554.171 45.7664 554.171 Q52.1003 554.171 55.6014 551.561 Q59.1026 548.92 59.1026 544.209 Q59.1026 539.466 55.6014 536.857 Q52.1003 534.215 45.7664 534.215 M59.58 528.358 Q68.683 528.358 73.1071 532.401 Q77.5631 536.443 77.5631 544.782 Q77.5631 547.869 77.0857 550.606 Q76.6401 553.344 75.6852 555.922 L69.9879 555.922 Q71.3884 553.344 72.0568 550.829 Q72.7252 548.315 72.7252 545.705 Q72.7252 539.944 69.7015 537.079 Q66.7096 534.215 60.6303 534.215 L57.7339 534.215 Q60.885 536.029 62.4446 538.862 Q64.0042 541.694 64.0042 545.641 Q64.0042 552.198 59.0071 556.208 Q54.01 560.219 45.7664 560.219 Q37.491 560.219 32.4939 556.208 Q27.4968 552.198 27.4968 545.641 Q27.4968 541.694 29.0564 538.862 Q30.616 536.029 33.7671 534.215 L28.3562 534.215 L28.3562 528.358 L59.58 528.358 Z\" fill=\"#000000\" fill-rule=\"nonzero\" fill-opacity=\"1\" /><path clip-path=\"url(#clip840)\" d=\"M44.7161 485.804 L47.5806 485.804 L47.5806 512.731 Q53.6281 512.349 56.8109 509.102 Q59.9619 505.824 59.9619 499.999 Q59.9619 496.625 59.1344 493.474 Q58.3069 490.291 56.6518 487.172 L62.1899 487.172 Q63.5267 490.323 64.227 493.633 Q64.9272 496.944 64.9272 500.349 Q64.9272 508.879 59.9619 513.876 Q54.9967 518.842 46.5303 518.842 Q37.7774 518.842 32.6531 514.131 Q27.4968 509.389 27.4968 501.368 Q27.4968 494.174 32.1438 490.005 Q36.7589 485.804 44.7161 485.804 M42.9973 491.66 Q38.1912 491.724 35.3266 494.365 Q32.4621 496.975 32.4621 501.304 Q32.4621 506.206 35.2312 509.166 Q38.0002 512.094 43.0292 512.54 L42.9973 491.66 Z\" fill=\"#000000\" fill-rule=\"nonzero\" fill-opacity=\"1\" /><path clip-path=\"url(#clip840)\" d=\"M33.8307 455.535 Q33.2578 456.521 33.0032 457.699 Q32.7167 458.845 32.7167 460.245 Q32.7167 465.211 35.9632 467.884 Q39.1779 470.526 45.2253 470.526 L64.0042 470.526 L64.0042 476.414 L28.3562 476.414 L28.3562 470.526 L33.8944 470.526 Q30.6479 468.68 29.0883 465.72 Q27.4968 462.76 27.4968 458.527 Q27.4968 457.922 27.5923 457.19 Q27.656 456.458 27.8151 455.566 L33.8307 455.535 Z\" fill=\"#000000\" fill-rule=\"nonzero\" fill-opacity=\"1\" /><path clip-path=\"url(#clip840)\" d=\"M29.4065 426.666 L34.9447 426.666 Q33.6716 429.149 33.035 431.822 Q32.3984 434.496 32.3984 437.361 Q32.3984 441.721 33.7352 443.917 Q35.072 446.082 37.7456 446.082 Q39.7826 446.082 40.9603 444.522 Q42.1061 442.962 43.1565 438.252 L43.6021 436.247 Q44.9389 430.008 47.3897 427.398 Q49.8086 424.756 54.1691 424.756 Q59.1344 424.756 62.0308 428.703 Q64.9272 432.618 64.9272 439.493 Q64.9272 442.358 64.3543 445.477 Q63.8132 448.564 62.6992 452.002 L56.6518 452.002 Q58.3387 448.755 59.198 445.604 Q60.0256 442.453 60.0256 439.366 Q60.0256 435.228 58.6251 433 Q57.1929 430.772 54.6147 430.772 Q52.2276 430.772 50.9545 432.395 Q49.6813 433.987 48.5037 439.429 L48.0262 441.466 Q46.8804 446.909 44.5251 449.328 Q42.138 451.747 38.0002 451.747 Q32.9713 451.747 30.2341 448.182 Q27.4968 444.617 27.4968 438.061 Q27.4968 434.814 27.9743 431.95 Q28.4517 429.085 29.4065 426.666 Z\" fill=\"#000000\" fill-rule=\"nonzero\" fill-opacity=\"1\" /><circle clip-path=\"url(#clip842)\" cx=\"264.778\" cy=\"86.1857\" r=\"14.4\" fill=\"#009af9\" fill-rule=\"evenodd\" fill-opacity=\"1\" stroke=\"#000000\" stroke-opacity=\"1\" stroke-width=\"3.2\"/>\n",
              "<circle clip-path=\"url(#clip842)\" cx=\"467.495\" cy=\"553.485\" r=\"14.4\" fill=\"#009af9\" fill-rule=\"evenodd\" fill-opacity=\"1\" stroke=\"#000000\" stroke-opacity=\"1\" stroke-width=\"3.2\"/>\n",
              "<circle clip-path=\"url(#clip842)\" cx=\"670.211\" cy=\"916.939\" r=\"14.4\" fill=\"#009af9\" fill-rule=\"evenodd\" fill-opacity=\"1\" stroke=\"#000000\" stroke-opacity=\"1\" stroke-width=\"3.2\"/>\n",
              "<circle clip-path=\"url(#clip842)\" cx=\"872.927\" cy=\"1176.55\" r=\"14.4\" fill=\"#009af9\" fill-rule=\"evenodd\" fill-opacity=\"1\" stroke=\"#000000\" stroke-opacity=\"1\" stroke-width=\"3.2\"/>\n",
              "<circle clip-path=\"url(#clip842)\" cx=\"1075.64\" cy=\"1332.32\" r=\"14.4\" fill=\"#009af9\" fill-rule=\"evenodd\" fill-opacity=\"1\" stroke=\"#000000\" stroke-opacity=\"1\" stroke-width=\"3.2\"/>\n",
              "<circle clip-path=\"url(#clip842)\" cx=\"1278.36\" cy=\"1384.24\" r=\"14.4\" fill=\"#009af9\" fill-rule=\"evenodd\" fill-opacity=\"1\" stroke=\"#000000\" stroke-opacity=\"1\" stroke-width=\"3.2\"/>\n",
              "<circle clip-path=\"url(#clip842)\" cx=\"1481.08\" cy=\"1332.32\" r=\"14.4\" fill=\"#009af9\" fill-rule=\"evenodd\" fill-opacity=\"1\" stroke=\"#000000\" stroke-opacity=\"1\" stroke-width=\"3.2\"/>\n",
              "<circle clip-path=\"url(#clip842)\" cx=\"1683.79\" cy=\"1176.55\" r=\"14.4\" fill=\"#009af9\" fill-rule=\"evenodd\" fill-opacity=\"1\" stroke=\"#000000\" stroke-opacity=\"1\" stroke-width=\"3.2\"/>\n",
              "<circle clip-path=\"url(#clip842)\" cx=\"1886.51\" cy=\"916.939\" r=\"14.4\" fill=\"#009af9\" fill-rule=\"evenodd\" fill-opacity=\"1\" stroke=\"#000000\" stroke-opacity=\"1\" stroke-width=\"3.2\"/>\n",
              "<circle clip-path=\"url(#clip842)\" cx=\"2089.22\" cy=\"553.485\" r=\"14.4\" fill=\"#009af9\" fill-rule=\"evenodd\" fill-opacity=\"1\" stroke=\"#000000\" stroke-opacity=\"1\" stroke-width=\"3.2\"/>\n",
              "<circle clip-path=\"url(#clip842)\" cx=\"2291.94\" cy=\"86.1857\" r=\"14.4\" fill=\"#009af9\" fill-rule=\"evenodd\" fill-opacity=\"1\" stroke=\"#000000\" stroke-opacity=\"1\" stroke-width=\"3.2\"/>\n",
              "</svg>\n"
            ]
          },
          "metadata": {},
          "output_type": "display_data"
        }
      ],
      "source": [
        "function square(x)\n",
        "    sq = x*x;\n",
        "end\n",
        "c = 1;\n",
        "squares = zeros(11);\n",
        "for i in -5:5\n",
        "    squares[c] = square(i)\n",
        "    c = c + 1;\n",
        "end\n",
        "scatter(squares)\n",
        "xlabel!(\"integers\")\n",
        "ylabel!(\"squares of integers\")\n",
        "plot!(legend=false)"
      ]
    },
    {
      "cell_type": "markdown",
      "id": "eaca6031-e691-4019-9986-e7127b3df842",
      "metadata": {},
      "source": [
        "## Commit and Push Your Changes to GitHub\n",
        "\n",
        "After completing the previous two exercises, commit your solution file\n",
        "(notebook or otherwise) and push to GitHub. Use an informative commit\n",
        "message which makes it clear what changes you’ve made. The specific\n",
        "workflow for this will vary depending on how you’re writing up your\n",
        "solutions; please search for specifics and ask for help as needed!\n",
        "\n",
        "> **Useful Commit Sizes**\n",
        ">\n",
        "> Ideally, you’d commit whenever you make a “substantial” enough change\n",
        "> that you want to lock in, such as writing the core code for a problem\n",
        "> or completing a problem, if you’re preparing code to be used elsewhere\n",
        "> (by yourself or others), or if you want to ask for help. `git` lets\n",
        "> you revert changes back to a previous commit, so it’s easy to undo\n",
        "> changes or updates which broke something that was previously working,\n",
        "> so changing too many things at once can make it hard to keep track of\n",
        "> what worked when.\n",
        ">\n",
        "> But in this case, go ahead and just commit after finishing the\n",
        "> problems.\n",
        "\n",
        "Push the repository with these commits to GitHub and take a screenshot\n",
        "of the repository page\n",
        "(`https://github.com/BEE4750-FA24/<username>/lab01`) which shows the\n",
        "updated repository. Include that screenshot in your submission as the\n",
        "solution to this problem.\n",
        "\n",
        "## Submitting PDF\n",
        "\n",
        "> **Important**\n",
        ">\n",
        "> These submission instructions will not be repeated on future\n",
        "> assignments!\n",
        "\n",
        "Export your writeup as a PDF and submit it to the “Lab 1” assignment on\n",
        "Gradescope. Make sure that you tag pages corresponding to relevant\n",
        "problems to avoid a 10% penalty.\n",
        "\n",
        "> **Printing Code to PDF**\n",
        ">\n",
        "> You are not required to submit your code when submitting assignments.\n",
        "> However, when printing a notebook to PDF, long lines will run off the\n",
        "> edge of code cells, which may result in comments or code being hidden.\n",
        "> If you see this, go back to the notebook and break up long lines into\n",
        "> shorter onces (for example, see the comment in the above code cell) to\n",
        "> ensure key parts of your results aren’t missing."
      ]
    }
  ],
  "metadata": {
    "kernel_info": {
      "name": "julia"
    },
    "kernelspec": {
      "display_name": "Julia 1.10.4",
      "language": "julia",
      "name": "julia-1.10"
    },
    "language_info": {
      "file_extension": ".jl",
      "mimetype": "application/julia",
      "name": "julia",
      "version": "1.10.4"
    }
  },
  "nbformat": 4,
  "nbformat_minor": 5
}
